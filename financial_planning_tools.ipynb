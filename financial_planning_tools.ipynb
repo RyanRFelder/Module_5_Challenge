{
 "cells": [
  {
   "cell_type": "markdown",
   "metadata": {},
   "source": [
    "# Financial Planning with APIs and Simulations\n",
    "\n",
    "In this Challenge, you’ll create two financial analysis tools by using a single Jupyter notebook:\n",
    "\n",
    "Part 1: A financial planner for emergencies. The members will be able to use this tool to visualize their current savings. The members can then determine if they have enough reserves for an emergency fund.\n",
    "\n",
    "Part 2: A financial planner for retirement. This tool will forecast the performance of their retirement portfolio in 30 years. To do this, the tool will make an Alpaca API call via the Alpaca SDK to get historical price data for use in Monte Carlo simulations.\n",
    "\n",
    "You’ll use the information from the Monte Carlo simulation to answer questions about the portfolio in your Jupyter notebook.\n",
    "\n"
   ]
  },
  {
   "cell_type": "code",
   "execution_count": 1,
   "metadata": {},
   "outputs": [],
   "source": [
    "# Import the required libraries and dependencies\n",
    "import os\n",
    "import requests\n",
    "import json\n",
    "import pandas as pd\n",
    "from dotenv import load_dotenv\n",
    "import alpaca_trade_api as tradeapi\n",
    "from MCForecastTools import MCSimulation\n",
    "\n",
    "%matplotlib inline"
   ]
  },
  {
   "cell_type": "code",
   "execution_count": 2,
   "metadata": {},
   "outputs": [
    {
     "data": {
      "text/plain": [
       "True"
      ]
     },
     "execution_count": 2,
     "metadata": {},
     "output_type": "execute_result"
    }
   ],
   "source": [
    "# Load the environment variables from the .env file\n",
    "#by calling the load_dotenv function\n",
    "load_dotenv()"
   ]
  },
  {
   "cell_type": "markdown",
   "metadata": {},
   "source": [
    "## Part 1: Create a Financial Planner for Emergencies"
   ]
  },
  {
   "cell_type": "markdown",
   "metadata": {},
   "source": [
    "### Evaluate the Cryptocurrency Wallet by Using the Requests Library\n",
    "\n",
    "In this section, you’ll determine the current value of a member’s cryptocurrency wallet. You’ll collect the current prices for the Bitcoin and Ethereum cryptocurrencies by using the Python Requests library. For the prototype, you’ll assume that the member holds the 1.2 Bitcoins (BTC) and 5.3 Ethereum coins (ETH). To do all this, complete the following steps:\n",
    "\n",
    "1. Create a variable named `monthly_income`, and set its value to `12000`.\n",
    "\n",
    "2. Use the Requests library to get the current price (in US dollars) of Bitcoin (BTC) and Ethereum (ETH) by using the API endpoints that the starter code supplies.\n",
    "\n",
    "3. Navigate the JSON response object to access the current price of each coin, and store each in a variable.\n",
    "\n",
    "    > **Hint** Note the specific identifier for each cryptocurrency in the API JSON response. The Bitcoin identifier is `1`, and the Ethereum identifier is `1027`.\n",
    "\n",
    "4. Calculate the value, in US dollars, of the current amount of each cryptocurrency and of the entire cryptocurrency wallet.\n",
    "\n"
   ]
  },
  {
   "cell_type": "code",
   "execution_count": 3,
   "metadata": {},
   "outputs": [],
   "source": [
    "# The current number of coins for each cryptocurrency asset held in the portfolio.\n",
    "btc_coins = 1.2\n",
    "eth_coins = 5.3"
   ]
  },
  {
   "cell_type": "markdown",
   "metadata": {},
   "source": [
    "#### Step 1: Create a variable named `monthly_income`, and set its value to `12000`."
   ]
  },
  {
   "cell_type": "code",
   "execution_count": 46,
   "metadata": {},
   "outputs": [],
   "source": [
    "# The monthly amount for the member's household income\n",
    "# YOUR CODE HERE\n",
    "monthly_income = 12000\n"
   ]
  },
  {
   "cell_type": "markdown",
   "metadata": {},
   "source": [
    "#### Review the endpoint URLs for the API calls to Free Crypto API in order to get the current pricing information for both BTC and ETH."
   ]
  },
  {
   "cell_type": "code",
   "execution_count": 5,
   "metadata": {},
   "outputs": [],
   "source": [
    "# The Free Crypto API Call endpoint URLs for the held cryptocurrency assets\n",
    "btc_url = \"https://api.alternative.me/v2/ticker/Bitcoin/?convert=USD\"\n",
    "eth_url = \"https://api.alternative.me/v2/ticker/Ethereum/?convert=USD\""
   ]
  },
  {
   "cell_type": "markdown",
   "metadata": {},
   "source": [
    "#### Step 2. Use the Requests library to get the current price (in US dollars) of Bitcoin (BTC) and Ethereum (ETH) by using the API endpoints that the starter code supplied."
   ]
  },
  {
   "cell_type": "code",
   "execution_count": 6,
   "metadata": {},
   "outputs": [
    {
     "name": "stdout",
     "output_type": "stream",
     "text": [
      "{\n",
      "    \"data\": {\n",
      "        \"1\": {\n",
      "            \"circulating_supply\": 18622675,\n",
      "            \"id\": 1,\n",
      "            \"last_updated\": 1612751067,\n",
      "            \"max_supply\": 21000000,\n",
      "            \"name\": \"Bitcoin\",\n",
      "            \"quotes\": {\n",
      "                \"USD\": {\n",
      "                    \"market_cap\": 715629091312,\n",
      "                    \"percent_change_1h\": -0.65321283398434,\n",
      "                    \"percent_change_24h\": 0.24421279984188,\n",
      "                    \"percent_change_7d\": 16.0147887821661,\n",
      "                    \"percentage_change_1h\": -0.65321283398434,\n",
      "                    \"percentage_change_24h\": 0.24421279984188,\n",
      "                    \"percentage_change_7d\": 16.0147887821661,\n",
      "                    \"price\": 38360.0,\n",
      "                    \"volume_24h\": 50874168628\n",
      "                }\n",
      "            },\n",
      "            \"rank\": 1,\n",
      "            \"symbol\": \"BTC\",\n",
      "            \"total_supply\": 18622675,\n",
      "            \"website_slug\": \"bitcoin\"\n",
      "        }\n",
      "    },\n",
      "    \"metadata\": {\n",
      "        \"error\": null,\n",
      "        \"num_cryptocurrencies\": 1366,\n",
      "        \"timestamp\": 1612751067\n",
      "    }\n",
      "}\n"
     ]
    }
   ],
   "source": [
    "# Using the Python requests library, make an API call to access the current price of BTC\n",
    "btc_response = requests.get(btc_url).json()\n",
    "\n",
    "# Use the json.dumps function to review the response data from the API call\n",
    "# Use the indent and sort_keys parameters to make the response object readable\n",
    "# YOUR CODE HERE\n",
    "\n",
    "print(json.dumps(btc_response, indent=4, sort_keys=True))\n",
    "\n"
   ]
  },
  {
   "cell_type": "code",
   "execution_count": 7,
   "metadata": {},
   "outputs": [
    {
     "name": "stdout",
     "output_type": "stream",
     "text": [
      "{\n",
      "    \"data\": {\n",
      "        \"1027\": {\n",
      "            \"circulating_supply\": 114580493,\n",
      "            \"id\": 1027,\n",
      "            \"last_updated\": 1612751049,\n",
      "            \"max_supply\": 0,\n",
      "            \"name\": \"Ethereum\",\n",
      "            \"quotes\": {\n",
      "                \"USD\": {\n",
      "                    \"market_cap\": 182243176536,\n",
      "                    \"percent_change_1h\": -0.866046916144061,\n",
      "                    \"percent_change_24h\": -1.79366227448639,\n",
      "                    \"percent_change_7d\": 19.9228320587304,\n",
      "                    \"percentage_change_1h\": -0.866046916144061,\n",
      "                    \"percentage_change_24h\": -1.79366227448639,\n",
      "                    \"percentage_change_7d\": 19.9228320587304,\n",
      "                    \"price\": 1579.44,\n",
      "                    \"volume_24h\": 37261818415\n",
      "                }\n",
      "            },\n",
      "            \"rank\": 2,\n",
      "            \"symbol\": \"ETH\",\n",
      "            \"total_supply\": 114580493,\n",
      "            \"website_slug\": \"ethereum\"\n",
      "        }\n",
      "    },\n",
      "    \"metadata\": {\n",
      "        \"error\": null,\n",
      "        \"num_cryptocurrencies\": 1366,\n",
      "        \"timestamp\": 1612751049\n",
      "    }\n",
      "}\n"
     ]
    }
   ],
   "source": [
    "# Using the Python requests library, make an API call to access the current price ETH\n",
    "eth_response = requests.get(eth_url).json()\n",
    "\n",
    "# Use the json.dumps function to review the response data from the API call\n",
    "# Use the indent and sort_keys parameters to make the response object readable\n",
    "\n",
    "print(json.dumps(eth_response, indent=4, sort_keys=True))"
   ]
  },
  {
   "cell_type": "markdown",
   "metadata": {},
   "source": [
    "#### Step 3: Navigate the JSON response object to access the current price of each coin, and store each in a variable."
   ]
  },
  {
   "cell_type": "code",
   "execution_count": 8,
   "metadata": {},
   "outputs": [
    {
     "name": "stdout",
     "output_type": "stream",
     "text": [
      "The current price for BTC is $38,360.00\n"
     ]
    }
   ],
   "source": [
    "# Navigate the BTC response object to access the current price of BTC\n",
    "\n",
    "btc_price = btc_response['data']['1']['quotes']['USD']['price']\n",
    "\n",
    "# Print the current price of BTC\n",
    "\n",
    "print(f\"The current price for BTC is ${btc_price:,.2f}\")"
   ]
  },
  {
   "cell_type": "code",
   "execution_count": 9,
   "metadata": {},
   "outputs": [
    {
     "name": "stdout",
     "output_type": "stream",
     "text": [
      "The current price for ETH is $1,579.44\n"
     ]
    }
   ],
   "source": [
    "# Navigate the BTC response object to access the current price of ETH\n",
    "\n",
    "eth_price = eth_response['data']['1027']['quotes']['USD']['price']\n",
    "\n",
    "# Print the current price of ETH\n",
    "\n",
    "print(f\"The current price for ETH is ${eth_price:,.2f}\")"
   ]
  },
  {
   "cell_type": "markdown",
   "metadata": {},
   "source": [
    "### Step 4: Calculate the value, in US dollars, of the current amount of each cryptocurrency and of the entire cryptocurrency wallet."
   ]
  },
  {
   "cell_type": "code",
   "execution_count": 10,
   "metadata": {},
   "outputs": [
    {
     "name": "stdout",
     "output_type": "stream",
     "text": [
      "The current value of the total Bitcoin (BTC) holding is $46,032.00\n"
     ]
    }
   ],
   "source": [
    "# Compute the current value of the BTC holding \n",
    "\n",
    "btc_value = btc_coins * btc_price\n",
    "\n",
    "# Print current value of your holding in BTC\n",
    "\n",
    "print(f\"The current value of the total Bitcoin (BTC) holding is ${btc_value:,.2f}\")"
   ]
  },
  {
   "cell_type": "code",
   "execution_count": 11,
   "metadata": {},
   "outputs": [
    {
     "name": "stdout",
     "output_type": "stream",
     "text": [
      "The current value of the total Ethereum (ETH) holding is $8,371.03\n"
     ]
    }
   ],
   "source": [
    "# Compute the current value of the ETH holding \n",
    "\n",
    "eth_value = eth_coins * eth_price\n",
    "\n",
    "# Print current value of your holding in ETH\n",
    "\n",
    "print(f\"The current value of the total Ethereum (ETH) holding is ${eth_value:,.2f}\")"
   ]
  },
  {
   "cell_type": "code",
   "execution_count": 12,
   "metadata": {},
   "outputs": [
    {
     "name": "stdout",
     "output_type": "stream",
     "text": [
      "The total value of the entire cryptocurrency wallet is $54,403.03\n"
     ]
    }
   ],
   "source": [
    "# Compute the total value of the cryptocurrency wallet\n",
    "# Add the value of the BTC holding to the value of the ETH holding\n",
    "total_crypto_wallet = btc_value + eth_value\n",
    "\n",
    "# Print current cryptocurrency wallet balance\n",
    "print(f\"The total value of the entire cryptocurrency wallet is ${total_crypto_wallet:,.2f}\")"
   ]
  },
  {
   "cell_type": "markdown",
   "metadata": {},
   "source": [
    "### Evaluate the Stock and Bond Holdings by Using the Alpaca SDK\n",
    "\n",
    "In this section, you’ll determine the current value of a member’s stock and bond holdings. You’ll make an API call to Alpaca via the Alpaca SDK to get the current closing prices of the SPDR S&P 500 ETF Trust (ticker: SPY) and of the iShares Core US Aggregate Bond ETF (ticker: AGG). For the prototype, assume that the member holds 110 shares of SPY, which represents the stock portion of their portfolio, and 200 shares of AGG, which represents the bond portion. To do all this, complete the following steps:\n",
    "\n",
    "1. In the `Starter_Code` folder, create an environment file (`.env`) to store the values of your Alpaca API key and Alpaca secret key.\n",
    "\n",
    "2. Set the variables for the Alpaca API and secret keys. Using the Alpaca SDK, create the Alpaca `tradeapi.REST` object. In this object, include the parameters for the Alpaca API key, the secret key, and the version number.\n",
    "\n",
    "3. Set the following parameters for the Alpaca API call:\n",
    "\n",
    "    - `tickers`: Use the tickers for the member’s stock and bond holdings.\n",
    "\n",
    "    - `timeframe`: Use a time frame of one day.\n",
    "\n",
    "    - `start_date` and `end_date`: Use the same date for these parameters, and format them with the date of the previous weekday (or `2020-08-07`). This is because you want the one closing price for the most-recent trading day.\n",
    "\n",
    "4. Get the current closing prices for `SPY` and `AGG` by using the Alpaca `get_barset` function. Format the response as a Pandas DataFrame by including the `df` property at the end of the `get_barset` function.\n",
    "\n",
    "5. Navigating the Alpaca response DataFrame, select the `SPY` and `AGG` closing prices, and store them as variables.\n",
    "\n",
    "6. Calculate the value, in US dollars, of the current amount of shares in each of the stock and bond portions of the portfolio, and print the results.\n"
   ]
  },
  {
   "cell_type": "markdown",
   "metadata": {},
   "source": [
    "#### Review the total number of shares held in both (SPY) and (AGG)."
   ]
  },
  {
   "cell_type": "code",
   "execution_count": 37,
   "metadata": {},
   "outputs": [],
   "source": [
    "# Current amount of shares held in both the stock (SPY) and bond (AGG) portion of the portfolio.\n",
    "spy_shares = 110\n",
    "agg_shares = 200\n"
   ]
  },
  {
   "cell_type": "markdown",
   "metadata": {},
   "source": [
    "#### Step 1: In the `Starter_Code` folder, create an environment file (`.env`) to store the values of your Alpaca API key and Alpaca secret key."
   ]
  },
  {
   "cell_type": "markdown",
   "metadata": {},
   "source": [
    "#### Step 2: Set the variables for the Alpaca API and secret keys. Using the Alpaca SDK, create the Alpaca `tradeapi.REST` object. In this object, include the parameters for the Alpaca API key, the secret key, and the version number."
   ]
  },
  {
   "cell_type": "code",
   "execution_count": 13,
   "metadata": {},
   "outputs": [
    {
     "data": {
      "text/plain": [
       "str"
      ]
     },
     "metadata": {},
     "output_type": "display_data"
    },
    {
     "data": {
      "text/plain": [
       "str"
      ]
     },
     "metadata": {},
     "output_type": "display_data"
    }
   ],
   "source": [
    "# Set the variables for the Alpaca API and secret keys\n",
    "alpaca_api_key = os.getenv(\"ALPACA_API_KEY\")\n",
    "alpaca_secret_key = os.getenv(\"ALPACA_SECRET_KEY\")\n",
    "\n",
    "# Check the values were imported correctly by evaluating the type of each\n",
    "display(type(alpaca_api_key))\n",
    "display(type(alpaca_secret_key))\n",
    "\n",
    "# Create the Alpaca tradeapi.REST object\n",
    "alpaca = tradeapi.REST(\n",
    "    alpaca_api_key,\n",
    "    alpaca_secret_key,\n",
    "    api_version = \"v2\"\n",
    ")"
   ]
  },
  {
   "cell_type": "markdown",
   "metadata": {},
   "source": [
    "#### Step 3: Set the following parameters for the Alpaca API call:\n",
    "\n",
    "- `tickers`: Use the tickers for the member’s stock and bond holdings.\n",
    "\n",
    "- `timeframe`: Use a time frame of one day.\n",
    "\n",
    "- `start_date` and `end_date`: Use the same date for these parameters, and format them with the date of the previous weekday (or `2020-08-07`). This is because you want the one closing price for the most-recent trading day.\n"
   ]
  },
  {
   "cell_type": "code",
   "execution_count": 22,
   "metadata": {},
   "outputs": [
    {
     "data": {
      "text/plain": [
       "('2021-02-07', '2021-02-04', '2020-02-08', '2018-02-08', '2011-02-10')"
      ]
     },
     "execution_count": 22,
     "metadata": {},
     "output_type": "execute_result"
    }
   ],
   "source": [
    "# Set the tickers for both the bond and stock portion of the portfolio\n",
    "import datetime \n",
    "\n",
    "today = str(datetime.datetime.now()).split()[0]\n",
    "\n",
    "three_days_ago = str(datetime.datetime.now() - datetime.timedelta(days=3)).split()[0]\n",
    "one_year_ago = str(datetime.datetime.now() - datetime.timedelta(days=1*365)).split()[0]\n",
    "three_year_ago = str(datetime.datetime.now() - datetime.timedelta(days=3*365)).split()[0]\n",
    "ten_year_ago = str(datetime.datetime.now() - datetime.timedelta(days=10*365)).split()[0]\n",
    "\n",
    "tickers = [\"SPY\", \"AGG\"]\n",
    "timeframe = \"1D\"\n",
    "\n",
    "current_data = three_days_ago\n",
    "start_date = pd.Timestamp(current_data, tz=\"America/New_York\").isoformat()\n",
    "end_date = pd.Timestamp(current_data, tz=\"America/New_York\").isoformat()\n",
    "\n",
    "today, three_days_ago, one_year_ago, three_year_ago, ten_year_ago\n"
   ]
  },
  {
   "cell_type": "markdown",
   "metadata": {},
   "source": [
    "#### Step 4: Get the current closing prices for `SPY` and `AGG` by using the Alpaca `get_barset` function. Format the response as a Pandas DataFrame by including the `df` property at the end of the `get_barset` function."
   ]
  },
  {
   "cell_type": "code",
   "execution_count": 27,
   "metadata": {},
   "outputs": [],
   "source": [
    "# Use the Alpaca get_barset function to get current closing prices the portfolio\n",
    "# Be sure to set the `df` property after the function to format the response object as a DataFrame\n",
    "# YOUR CODE HERE\n",
    "\n",
    "prices_df = alpaca.get_barset(tickers,timeframe,start=start_date,end=end_date).df\n",
    "\n",
    "# Review the first 5 rows of the Alpaca DataFrame\n",
    "# YOUR CODE HERE\n",
    "\n"
   ]
  },
  {
   "cell_type": "code",
   "execution_count": 31,
   "metadata": {},
   "outputs": [
    {
     "data": {
      "text/html": [
       "<div>\n",
       "<style scoped>\n",
       "    .dataframe tbody tr th:only-of-type {\n",
       "        vertical-align: middle;\n",
       "    }\n",
       "\n",
       "    .dataframe tbody tr th {\n",
       "        vertical-align: top;\n",
       "    }\n",
       "\n",
       "    .dataframe thead tr th {\n",
       "        text-align: left;\n",
       "    }\n",
       "\n",
       "    .dataframe thead tr:last-of-type th {\n",
       "        text-align: right;\n",
       "    }\n",
       "</style>\n",
       "<table border=\"1\" class=\"dataframe\">\n",
       "  <thead>\n",
       "    <tr>\n",
       "      <th></th>\n",
       "      <th colspan=\"5\" halign=\"left\">AGG</th>\n",
       "      <th colspan=\"5\" halign=\"left\">SPY</th>\n",
       "    </tr>\n",
       "    <tr>\n",
       "      <th></th>\n",
       "      <th>open</th>\n",
       "      <th>high</th>\n",
       "      <th>low</th>\n",
       "      <th>close</th>\n",
       "      <th>volume</th>\n",
       "      <th>open</th>\n",
       "      <th>high</th>\n",
       "      <th>low</th>\n",
       "      <th>close</th>\n",
       "      <th>volume</th>\n",
       "    </tr>\n",
       "    <tr>\n",
       "      <th>time</th>\n",
       "      <th></th>\n",
       "      <th></th>\n",
       "      <th></th>\n",
       "      <th></th>\n",
       "      <th></th>\n",
       "      <th></th>\n",
       "      <th></th>\n",
       "      <th></th>\n",
       "      <th></th>\n",
       "      <th></th>\n",
       "    </tr>\n",
       "  </thead>\n",
       "  <tbody>\n",
       "    <tr>\n",
       "      <th>2021-02-04 00:00:00-05:00</th>\n",
       "      <td>116.75</td>\n",
       "      <td>116.89</td>\n",
       "      <td>116.69</td>\n",
       "      <td>116.86</td>\n",
       "      <td>5128808</td>\n",
       "      <td>382.96</td>\n",
       "      <td>386.24</td>\n",
       "      <td>381.9655</td>\n",
       "      <td>386.17</td>\n",
       "      <td>40030930</td>\n",
       "    </tr>\n",
       "  </tbody>\n",
       "</table>\n",
       "</div>"
      ],
      "text/plain": [
       "                              AGG                                      SPY  \\\n",
       "                             open    high     low   close   volume    open   \n",
       "time                                                                         \n",
       "2021-02-04 00:00:00-05:00  116.75  116.89  116.69  116.86  5128808  382.96   \n",
       "\n",
       "                                                               \n",
       "                             high       low   close    volume  \n",
       "time                                                           \n",
       "2021-02-04 00:00:00-05:00  386.24  381.9655  386.17  40030930  "
      ]
     },
     "execution_count": 31,
     "metadata": {},
     "output_type": "execute_result"
    }
   ],
   "source": [
    "prices_df.head()"
   ]
  },
  {
   "cell_type": "markdown",
   "metadata": {},
   "source": [
    "#### Step 5: Navigating the Alpaca response DataFrame, select the `SPY` and `AGG` closing prices, and store them as variables."
   ]
  },
  {
   "cell_type": "code",
   "execution_count": 32,
   "metadata": {},
   "outputs": [
    {
     "name": "stdout",
     "output_type": "stream",
     "text": [
      "AGG    $ 116.86\n",
      "<class 'float'>\n"
     ]
    }
   ],
   "source": [
    "# Access the closing price for AGG from the Alpaca DataFrame\n",
    "# Converting the value to a floating point number\n",
    "\n",
    "agg_close_price = float(prices_df[\"AGG\"][\"close\"])\n",
    "\n",
    "# Print the AGG closing price\n",
    "\n",
    "print(f\"AGG    ${agg_close_price: .2f}\")\n",
    "print(type(agg_close_price))"
   ]
  },
  {
   "cell_type": "code",
   "execution_count": 33,
   "metadata": {},
   "outputs": [
    {
     "name": "stdout",
     "output_type": "stream",
     "text": [
      "SPY    $ 386.17\n",
      "<class 'float'>\n"
     ]
    }
   ],
   "source": [
    "# Access the closing price for SPY from the Alpaca DataFrame\n",
    "# Converting the value to a floating point number\n",
    "\n",
    "spy_close_price = float(prices_df[\"SPY\"][\"close\"])\n",
    "\n",
    "# Print the SPY closing price\n",
    "\n",
    "print(f\"SPY    ${spy_close_price: .2f}\")\n",
    "print(type(spy_close_price))"
   ]
  },
  {
   "cell_type": "markdown",
   "metadata": {},
   "source": [
    "#### Step 6: Calculate the value, in US dollars, of the current amount of shares in each of the stock and bond portions of the portfolio, and print the results."
   ]
  },
  {
   "cell_type": "code",
   "execution_count": 38,
   "metadata": {},
   "outputs": [
    {
     "name": "stdout",
     "output_type": "stream",
     "text": [
      "Current Value of the Bond Portfolio:            $23,372.00\n"
     ]
    }
   ],
   "source": [
    "# Calculate the current value of the bond portion of the portfolio\n",
    "\n",
    "agg_value = agg_close_price * agg_shares\n",
    "\n",
    "# Print the current value of the bond portfolio\n",
    "\n",
    "print(f\"Current Value of the Bond Portfolio:            ${agg_value:,.2f}\")"
   ]
  },
  {
   "cell_type": "code",
   "execution_count": 39,
   "metadata": {},
   "outputs": [
    {
     "name": "stdout",
     "output_type": "stream",
     "text": [
      "Current Value of the Stock Portfolio:            $42,478.70\n"
     ]
    }
   ],
   "source": [
    "# Calculate the current value of the stock portion of the portfolio\n",
    "\n",
    "spy_value = spy_close_price * spy_shares\n",
    "\n",
    "# Print the current value of the stock portfolio\n",
    "\n",
    "print(f\"Current Value of the Stock Portfolio:            ${spy_value:,.2f}\")"
   ]
  },
  {
   "cell_type": "code",
   "execution_count": 40,
   "metadata": {},
   "outputs": [
    {
     "name": "stdout",
     "output_type": "stream",
     "text": [
      "Total Value of the Stock/Bond Portion of the Portfolio:            $65,850.70\n"
     ]
    }
   ],
   "source": [
    "# Calculate the total value of the stock and bond portion of the portfolio\n",
    "total_stocks_bonds = agg_value + spy_value\n",
    "\n",
    "# Print the current balance of the stock and bond portion of the portfolio\n",
    "print(f\"Total Value of the Stock/Bond Portion of the Portfolio:            ${total_stocks_bonds:,.2f}\")"
   ]
  },
  {
   "cell_type": "code",
   "execution_count": 41,
   "metadata": {},
   "outputs": [
    {
     "name": "stdout",
     "output_type": "stream",
     "text": [
      "Total Value of Portfolio :            $120,253.73\n"
     ]
    }
   ],
   "source": [
    "# Calculate the total value of the member's entire savings portfolio\n",
    "# Add the value of the cryptocurrency walled to the value of the total stocks and bonds\n",
    "total_portfolio = total_crypto_wallet + total_stocks_bonds\n",
    "\n",
    "# Print current cryptocurrency wallet balance\n",
    "# YOUR CODE HERE\n",
    "print(f\"Total Value of Portfolio :            ${total_portfolio:,.2f}\")"
   ]
  },
  {
   "cell_type": "markdown",
   "metadata": {},
   "source": [
    "### Evaluate the Emergency Fund\n",
    "\n",
    "In this section, you’ll use the valuations for the cryptocurrency wallet and for the stock and bond portions of the portfolio to determine if the credit union member has enough savings to build an emergency fund into their financial plan. To do this, complete the following steps:\n",
    "\n",
    "1. Create a Python list named `savings_data` that has two elements. The first element contains the total value of the cryptocurrency wallet. The second element contains the total value of the stock and bond portions of the portfolio.\n",
    "\n",
    "2. Use the `savings_data` list to create a Pandas DataFrame named `savings_df`, and then display this DataFrame. The function to create the DataFrame should take the following three parameters:\n",
    "\n",
    "    - `savings_data`: Use the list that you just created.\n",
    "\n",
    "    - `columns`: Set this parameter equal to a Python list with a single value called `amount`.\n",
    "\n",
    "    - `index`: Set this parameter equal to a Python list with the values of `crypto` and `stock/bond`.\n",
    "\n",
    "3. Use the `savings_df` DataFrame to plot a pie chart that visualizes the composition of the member’s portfolio. The y-axis of the pie chart uses `amount`. Be sure to add a title.\n",
    "\n",
    "4. Using Python, determine if the current portfolio has enough to create an emergency fund as part of the member’s financial plan. Ideally, an emergency fund should equal to three times the member’s monthly income. To do this, implement the following steps:\n",
    "\n",
    "    1. Create a variable named `emergency_fund_value`, and set it equal to three times the value of the member’s `monthly_income` of $12000. (You set this earlier in Part 1).\n",
    "\n",
    "    2. Create a series of three if statements to determine if the member’s total portfolio is large enough to fund the emergency portfolio:\n",
    "\n",
    "        1. If the total portfolio value is greater than the emergency fund value, display a message congratulating the member for having enough money in this fund.\n",
    "\n",
    "        2. Else if the total portfolio value is equal to the emergency fund value, display a message congratulating the member on reaching this important financial goal.\n",
    "\n",
    "        3. Else the total portfolio is less than the emergency fund value, so display a message showing how many dollars away the member is from reaching the goal. (Subtract the total portfolio value from the emergency fund value.)\n"
   ]
  },
  {
   "cell_type": "markdown",
   "metadata": {},
   "source": [
    "#### Step 1: Create a Python list named `savings_data` that has two elements. The first element contains the total value of the cryptocurrency wallet. The second element contains the total value of the stock and bond portions of the portfolio."
   ]
  },
  {
   "cell_type": "code",
   "execution_count": 42,
   "metadata": {},
   "outputs": [
    {
     "data": {
      "text/plain": [
       "['Crypto', 'Stock/Bond', 'Total']"
      ]
     },
     "execution_count": 42,
     "metadata": {},
     "output_type": "execute_result"
    }
   ],
   "source": [
    "# Consolidate financial assets data into a Python list\n",
    "savings_data = [\"Crypto\", \"Stock/Bond\", \"Total\"] \n",
    "\n",
    "# Review the Python list savings_data\n",
    "savings_data"
   ]
  },
  {
   "cell_type": "markdown",
   "metadata": {},
   "source": [
    "#### Step 2: Use the `savings_data` list to create a Pandas DataFrame named `savings_df`, and then display this DataFrame. The function to create the DataFrame should take the following three parameters:\n",
    "\n",
    "- `savings_data`: Use the list that you just created.\n",
    "\n",
    "- `columns`: Set this parameter equal to a Python list with a single value called `amount`.\n",
    "\n",
    "- `index`: Set this parameter equal to a Python list with the values of `crypto` and `stock/bond`.\n"
   ]
  },
  {
   "cell_type": "code",
   "execution_count": 43,
   "metadata": {},
   "outputs": [
    {
     "data": {
      "text/html": [
       "<div>\n",
       "<style scoped>\n",
       "    .dataframe tbody tr th:only-of-type {\n",
       "        vertical-align: middle;\n",
       "    }\n",
       "\n",
       "    .dataframe tbody tr th {\n",
       "        vertical-align: top;\n",
       "    }\n",
       "\n",
       "    .dataframe thead th {\n",
       "        text-align: right;\n",
       "    }\n",
       "</style>\n",
       "<table border=\"1\" class=\"dataframe\">\n",
       "  <thead>\n",
       "    <tr style=\"text-align: right;\">\n",
       "      <th></th>\n",
       "      <th>Amount</th>\n",
       "    </tr>\n",
       "  </thead>\n",
       "  <tbody>\n",
       "    <tr>\n",
       "      <th>Crypto</th>\n",
       "      <td>54403.032</td>\n",
       "    </tr>\n",
       "    <tr>\n",
       "      <th>Stock/Bond</th>\n",
       "      <td>65850.700</td>\n",
       "    </tr>\n",
       "    <tr>\n",
       "      <th>Total</th>\n",
       "      <td>120253.732</td>\n",
       "    </tr>\n",
       "  </tbody>\n",
       "</table>\n",
       "</div>"
      ],
      "text/plain": [
       "                Amount\n",
       "Crypto       54403.032\n",
       "Stock/Bond   65850.700\n",
       "Total       120253.732"
      ]
     },
     "execution_count": 43,
     "metadata": {},
     "output_type": "execute_result"
    }
   ],
   "source": [
    "# Create a Pandas DataFrame called savings_df \n",
    "savings_df = pd.DataFrame(\n",
    "    {'Amount':[total_crypto_wallet, total_stocks_bonds, total_portfolio]},\n",
    "    index=savings_data\n",
    ")\n",
    "\n",
    "# Display the savings_df DataFrame\n",
    "\n",
    "savings_df"
   ]
  },
  {
   "cell_type": "markdown",
   "metadata": {},
   "source": [
    "#### Step 3: Use the `savings_df` DataFrame to plot a pie chart that visualizes the composition of the member’s portfolio. The y-axis of the pie chart uses `amount`. Be sure to add a title."
   ]
  },
  {
   "cell_type": "code",
   "execution_count": 44,
   "metadata": {},
   "outputs": [
    {
     "data": {
      "text/plain": [
       "<AxesSubplot:title={'center':'Portfolio Composition - Crypto v. Stock/Bond Holdings'}, ylabel='Amount'>"
      ]
     },
     "execution_count": 44,
     "metadata": {},
     "output_type": "execute_result"
    },
    {
     "data": {
      "image/png": "[encoded data removed]",
      "text/plain": [
       "<Figure size 432x288 with 1 Axes>"
      ]
     },
     "metadata": {},
     "output_type": "display_data"
    }
   ],
   "source": [
    "# Plot the total value of the member's portfolio (crypto and stock/bond) in a pie chart\n",
    "# YOUR CODE HERE\n",
    "\n",
    "savings_df.drop(\"Total\").plot.pie(y='Amount', title='Portfolio Composition - Crypto v. Stock/Bond Holdings')"
   ]
  },
  {
   "cell_type": "markdown",
   "metadata": {},
   "source": [
    "#### Step 4: Using Python, determine if the current portfolio has enough to create an emergency fund as part of the member’s financial plan. Ideally, an emergency fund should equal to three times the member’s monthly income. To do this, implement the following steps:\n",
    "\n",
    "Step 1. Create a variable named `emergency_fund_value`, and set it equal to three times the value of the member’s `monthly_income` of 12000. (You set this earlier in Part 1).\n",
    "\n",
    "Step 2. Create a series of three if statements to determine if the member’s total portfolio is large enough to fund the emergency portfolio:\n",
    "\n",
    "* If the total portfolio value is greater than the emergency fund value, display a message congratulating the member for having enough money in this fund.\n",
    "\n",
    "* Else if the total portfolio value is equal to the emergency fund value, display a message congratulating the member on reaching this important financial goal.\n",
    "\n",
    "* Else the total portfolio is less than the emergency fund value, so display a message showing how many dollars away the member is from reaching the goal. (Subtract the total portfolio value from the emergency fund value.)\n"
   ]
  },
  {
   "cell_type": "markdown",
   "metadata": {},
   "source": [
    "##### Step 4-1: Create a variable named `emergency_fund_value`, and set it equal to three times the value of the member’s `monthly_income` of 12000. (You set this earlier in Part 1)."
   ]
  },
  {
   "cell_type": "code",
   "execution_count": 47,
   "metadata": {},
   "outputs": [
    {
     "data": {
      "text/plain": [
       "36000"
      ]
     },
     "execution_count": 47,
     "metadata": {},
     "output_type": "execute_result"
    }
   ],
   "source": [
    "# Create a variable named emergency_fund_value\n",
    "# YOUR CODE HERE\n",
    "emergency_fund_value = monthly_income * 3\n",
    "\n",
    "emergency_fund_value"
   ]
  },
  {
   "cell_type": "markdown",
   "metadata": {},
   "source": [
    "##### Step 4-2: Create a series of three if statements to determine if the member’s total portfolio is large enough to fund the emergency portfolio:\n",
    "\n",
    "* If the total portfolio value is greater than the emergency fund value, display a message congratulating the member for having enough money in this fund.\n",
    "\n",
    "* Else if the total portfolio value is equal to the emergency fund value, display a message congratulating the member on reaching this important financial goal.\n",
    "\n",
    "* Else the total portfolio is less than the emergency fund value, so display a message showing how many dollars away the member is from reaching the goal. (Subtract the total portfolio value from the emergency fund value.)"
   ]
  },
  {
   "cell_type": "code",
   "execution_count": 54,
   "metadata": {},
   "outputs": [
    {
     "name": "stdout",
     "output_type": "stream",
     "text": [
      "Congratulations! you have saved enough for your goal, plus 7.02 months of reserve funds.\n"
     ]
    }
   ],
   "source": [
    "# Evaluate the possibility of creating an emergency fund with 3 conditions:\n",
    "\n",
    "if total_portfolio > emergency_fund_value:\n",
    "    print(f\"Congratulations! you have saved enough for your goal, plus {((total_portfolio / monthly_income) - 3):,.2f} months of reserve funds.\")\n",
    "if total_portfolio == emergency_fund_value: \n",
    "    print(f\"Good job! You have reached a 3 month reserve.\")\n",
    "if total_portfolio < emergency_fund_value:\n",
    "    print(f\"You are ${(emergency_fund_value - total_portfolio):,.2f} away from having 3 months'funding in an emergency.\")"
   ]
  },
  {
   "cell_type": "markdown",
   "metadata": {},
   "source": [
    "## Part 2: Create a Financial Planner for Retirement"
   ]
  },
  {
   "cell_type": "markdown",
   "metadata": {},
   "source": [
    "### Create the Monte Carlo Simulation\n",
    "\n",
    "In this section, you’ll use the MCForecastTools library to create a Monte Carlo simulation for the member’s savings portfolio. To do this, complete the following steps:\n",
    "\n",
    "1. Make an API call via the Alpaca SDK to get 10 years of historical closing prices for a traditional 60/40 portfolio split: 60% stocks (SPY) and 40% bonds (AGG).\n",
    "\n",
    "2. Run a Monte Carlo simulation of 500 samples and 30 years for the 60/40 portfolio, and then plot the results.The following image shows the overlay line plot resulting from a simulation with these characteristics. However, because a random number generator is used to run each live Monte Carlo simulation, your image will differ slightly from this exact image:\n",
    "\n",
    "![A screenshot depicts the resulting plot.](Images/5-4-monte-carlo-line-plot.png)\n",
    "\n",
    "3. Plot the probability distribution of the Monte Carlo simulation. Plot the probability distribution of the Monte Carlo simulation. The following image shows the histogram plot resulting from a simulation with these characteristics. However, because a random number generator is used to run each live Monte Carlo simulation, your image will differ slightly from this exact image:\n",
    "\n",
    "![A screenshot depicts the histogram plot.](Images/5-4-monte-carlo-histogram.png)\n",
    "\n",
    "4. Generate the summary statistics for the Monte Carlo simulation.\n",
    "\n"
   ]
  },
  {
   "cell_type": "markdown",
   "metadata": {},
   "source": [
    "#### Step 1: Make an API call via the Alpaca SDK to get 10 years of historical closing prices for a traditional 60/40 portfolio split: 60% stocks (SPY) and 40% bonds (AGG)."
   ]
  },
  {
   "cell_type": "code",
   "execution_count": 56,
   "metadata": {},
   "outputs": [
    {
     "data": {
      "text/plain": [
       "'2011-02-10T00:00:00-05:00'"
      ]
     },
     "execution_count": 56,
     "metadata": {},
     "output_type": "execute_result"
    }
   ],
   "source": [
    "# Set start and end dates of 10 years back from your current date\n",
    "# Alternatively, you can use an end date of 2020-08-07 and work 10 years back from that date \n",
    "\n",
    "start_date_ten = pd.Timestamp(ten_year_ago, tz=\"America/New_York\").isoformat()\n",
    "end_date = pd.Timestamp(current_data, tz=\"America/New_York\").isoformat()\n",
    "\n",
    "start_date_ten"
   ]
  },
  {
   "cell_type": "code",
   "execution_count": 60,
   "metadata": {},
   "outputs": [
    {
     "name": "stdout",
     "output_type": "stream",
     "text": [
      "2011-02-10T00:00:00-05:00\n",
      "                                AGG                                     \\\n",
      "                               open     high     low   close    volume   \n",
      "time                                                                     \n",
      "2020-09-14 00:00:00-04:00  118.4700  118.490  118.31  118.37  11279340   \n",
      "2020-09-15 00:00:00-04:00  118.2900  118.425  118.29  118.38   3634512   \n",
      "2020-09-16 00:00:00-04:00  118.5300  118.530  118.20  118.32   5190572   \n",
      "2020-09-17 00:00:00-04:00  118.4201  118.520  118.33  118.36   4263541   \n",
      "2020-09-18 00:00:00-04:00  118.3900  118.440  118.18  118.24   4548578   \n",
      "\n",
      "                              SPY                                         \n",
      "                             open      high       low   close     volume  \n",
      "time                                                                      \n",
      "2020-09-14 00:00:00-04:00  337.49  340.3800  334.2208  338.42  110083883  \n",
      "2020-09-15 00:00:00-04:00  341.12  342.0200  338.4683  340.15   43908367  \n",
      "2020-09-16 00:00:00-04:00  341.51  343.0600  338.5200  338.81   70521698  \n",
      "2020-09-17 00:00:00-04:00  333.56  337.6996  332.9910  335.86   80778657  \n",
      "2020-09-18 00:00:00-04:00  335.37  335.4900  327.9700  330.69   88780313  \n",
      "                                AGG                                     \\\n",
      "                               open    high       low   close   volume   \n",
      "time                                                                     \n",
      "2021-01-29 00:00:00-05:00  117.1563  117.40  116.5625  117.32  7119889   \n",
      "2021-02-01 00:00:00-05:00  117.2000  117.26  117.0915  117.21  5469814   \n",
      "2021-02-02 00:00:00-05:00  116.9900  117.09  116.9700  117.05  4694446   \n",
      "2021-02-03 00:00:00-05:00  116.9700  116.99  116.8700  116.89  5060310   \n",
      "2021-02-04 00:00:00-05:00  116.7500  116.89  116.6900  116.86  5128808   \n",
      "\n",
      "                               SPY                                       \n",
      "                              open    high       low   close     volume  \n",
      "time                                                                     \n",
      "2021-01-29 00:00:00-05:00  375.630  376.67  368.2700  370.19  106397082  \n",
      "2021-02-01 00:00:00-05:00  373.720  377.34  370.3760  376.18   64056510  \n",
      "2021-02-02 00:00:00-05:00  379.650  383.22  376.3181  381.54   53979346  \n",
      "2021-02-03 00:00:00-05:00  382.435  383.70  380.4800  381.86   43305661  \n",
      "2021-02-04 00:00:00-05:00  382.960  386.24  381.9655  386.17   40030930  \n"
     ]
    }
   ],
   "source": [
    "# Use the Alpaca get_barset function to make the API call to get the 10 years worth of pricing data\n",
    "# The tickers and timeframe parameters should have been set in Part 1 of this activity \n",
    "# The start and end dates should be updated with the information set above\n",
    "# Remember to add the df property to the end of the call so the response is returned as a DataFrame\n",
    "\n",
    "start_date = pd.Timestamp(\"2011-01-26\", tz=\"America/New_York\").isoformat()\n",
    "end_date = pd.Timestamp(current_data, tz=\"America/New_York\").isoformat()\n",
    "\n",
    "today_date = str(datetime.datetime.now()).split()[0]\n",
    "one_year_ago = str(datetime.datetime.now() - datetime.timedelta(days=1*365)).split()[0]\n",
    "three_year_ago = str(datetime.datetime.now() - datetime.timedelta(days=3*365)).split()[0]\n",
    "\n",
    "prices_df = alpaca.get_barset(\n",
    "    tickers,\n",
    "    timeframe,\n",
    "    start=start_date_ten,\n",
    "    end=end_date\n",
    ").df\n",
    "\n",
    "# Display both the first and last five rows of the DataFrame\n",
    "\n",
    "print(start_date_ten)\n",
    "print(prices_df.head())\n",
    "print(prices_df.tail())"
   ]
  },
  {
   "cell_type": "markdown",
   "metadata": {},
   "source": [
    "#### Step 2: Run a Monte Carlo simulation of 500 samples and 30 years for the 60/40 portfolio, and then plot the results."
   ]
  },
  {
   "cell_type": "code",
   "execution_count": 62,
   "metadata": {},
   "outputs": [
    {
     "data": {
      "text/html": [
       "<div>\n",
       "<style scoped>\n",
       "    .dataframe tbody tr th:only-of-type {\n",
       "        vertical-align: middle;\n",
       "    }\n",
       "\n",
       "    .dataframe tbody tr th {\n",
       "        vertical-align: top;\n",
       "    }\n",
       "\n",
       "    .dataframe thead tr th {\n",
       "        text-align: left;\n",
       "    }\n",
       "\n",
       "    .dataframe thead tr:last-of-type th {\n",
       "        text-align: right;\n",
       "    }\n",
       "</style>\n",
       "<table border=\"1\" class=\"dataframe\">\n",
       "  <thead>\n",
       "    <tr>\n",
       "      <th></th>\n",
       "      <th colspan=\"6\" halign=\"left\">AGG</th>\n",
       "      <th colspan=\"6\" halign=\"left\">SPY</th>\n",
       "    </tr>\n",
       "    <tr>\n",
       "      <th></th>\n",
       "      <th>open</th>\n",
       "      <th>high</th>\n",
       "      <th>low</th>\n",
       "      <th>close</th>\n",
       "      <th>volume</th>\n",
       "      <th>daily_return</th>\n",
       "      <th>open</th>\n",
       "      <th>high</th>\n",
       "      <th>low</th>\n",
       "      <th>close</th>\n",
       "      <th>volume</th>\n",
       "      <th>daily_return</th>\n",
       "    </tr>\n",
       "    <tr>\n",
       "      <th>time</th>\n",
       "      <th></th>\n",
       "      <th></th>\n",
       "      <th></th>\n",
       "      <th></th>\n",
       "      <th></th>\n",
       "      <th></th>\n",
       "      <th></th>\n",
       "      <th></th>\n",
       "      <th></th>\n",
       "      <th></th>\n",
       "      <th></th>\n",
       "      <th></th>\n",
       "    </tr>\n",
       "  </thead>\n",
       "  <tbody>\n",
       "    <tr>\n",
       "      <th>2020-09-14 00:00:00-04:00</th>\n",
       "      <td>118.4700</td>\n",
       "      <td>118.490</td>\n",
       "      <td>118.31</td>\n",
       "      <td>118.37</td>\n",
       "      <td>11279340</td>\n",
       "      <td>NaN</td>\n",
       "      <td>337.49</td>\n",
       "      <td>340.3800</td>\n",
       "      <td>334.2208</td>\n",
       "      <td>338.42</td>\n",
       "      <td>110083883</td>\n",
       "      <td>NaN</td>\n",
       "    </tr>\n",
       "    <tr>\n",
       "      <th>2020-09-15 00:00:00-04:00</th>\n",
       "      <td>118.2900</td>\n",
       "      <td>118.425</td>\n",
       "      <td>118.29</td>\n",
       "      <td>118.38</td>\n",
       "      <td>3634512</td>\n",
       "      <td>0.000084</td>\n",
       "      <td>341.12</td>\n",
       "      <td>342.0200</td>\n",
       "      <td>338.4683</td>\n",
       "      <td>340.15</td>\n",
       "      <td>43908367</td>\n",
       "      <td>0.005112</td>\n",
       "    </tr>\n",
       "    <tr>\n",
       "      <th>2020-09-16 00:00:00-04:00</th>\n",
       "      <td>118.5300</td>\n",
       "      <td>118.530</td>\n",
       "      <td>118.20</td>\n",
       "      <td>118.32</td>\n",
       "      <td>5190572</td>\n",
       "      <td>-0.000507</td>\n",
       "      <td>341.51</td>\n",
       "      <td>343.0600</td>\n",
       "      <td>338.5200</td>\n",
       "      <td>338.81</td>\n",
       "      <td>70521698</td>\n",
       "      <td>-0.003939</td>\n",
       "    </tr>\n",
       "    <tr>\n",
       "      <th>2020-09-17 00:00:00-04:00</th>\n",
       "      <td>118.4201</td>\n",
       "      <td>118.520</td>\n",
       "      <td>118.33</td>\n",
       "      <td>118.36</td>\n",
       "      <td>4263541</td>\n",
       "      <td>0.000338</td>\n",
       "      <td>333.56</td>\n",
       "      <td>337.6996</td>\n",
       "      <td>332.9910</td>\n",
       "      <td>335.86</td>\n",
       "      <td>80778657</td>\n",
       "      <td>-0.008707</td>\n",
       "    </tr>\n",
       "    <tr>\n",
       "      <th>2020-09-18 00:00:00-04:00</th>\n",
       "      <td>118.3900</td>\n",
       "      <td>118.440</td>\n",
       "      <td>118.18</td>\n",
       "      <td>118.24</td>\n",
       "      <td>4548578</td>\n",
       "      <td>-0.001014</td>\n",
       "      <td>335.37</td>\n",
       "      <td>335.4900</td>\n",
       "      <td>327.9700</td>\n",
       "      <td>330.69</td>\n",
       "      <td>88780313</td>\n",
       "      <td>-0.015393</td>\n",
       "    </tr>\n",
       "  </tbody>\n",
       "</table>\n",
       "</div>"
      ],
      "text/plain": [
       "                                AGG                                     \\\n",
       "                               open     high     low   close    volume   \n",
       "time                                                                     \n",
       "2020-09-14 00:00:00-04:00  118.4700  118.490  118.31  118.37  11279340   \n",
       "2020-09-15 00:00:00-04:00  118.2900  118.425  118.29  118.38   3634512   \n",
       "2020-09-16 00:00:00-04:00  118.5300  118.530  118.20  118.32   5190572   \n",
       "2020-09-17 00:00:00-04:00  118.4201  118.520  118.33  118.36   4263541   \n",
       "2020-09-18 00:00:00-04:00  118.3900  118.440  118.18  118.24   4548578   \n",
       "\n",
       "                                           SPY                              \\\n",
       "                          daily_return    open      high       low   close   \n",
       "time                                                                         \n",
       "2020-09-14 00:00:00-04:00          NaN  337.49  340.3800  334.2208  338.42   \n",
       "2020-09-15 00:00:00-04:00     0.000084  341.12  342.0200  338.4683  340.15   \n",
       "2020-09-16 00:00:00-04:00    -0.000507  341.51  343.0600  338.5200  338.81   \n",
       "2020-09-17 00:00:00-04:00     0.000338  333.56  337.6996  332.9910  335.86   \n",
       "2020-09-18 00:00:00-04:00    -0.001014  335.37  335.4900  327.9700  330.69   \n",
       "\n",
       "                                                   \n",
       "                              volume daily_return  \n",
       "time                                               \n",
       "2020-09-14 00:00:00-04:00  110083883          NaN  \n",
       "2020-09-15 00:00:00-04:00   43908367     0.005112  \n",
       "2020-09-16 00:00:00-04:00   70521698    -0.003939  \n",
       "2020-09-17 00:00:00-04:00   80778657    -0.008707  \n",
       "2020-09-18 00:00:00-04:00   88780313    -0.015393  "
      ]
     },
     "execution_count": 62,
     "metadata": {},
     "output_type": "execute_result"
    }
   ],
   "source": [
    "# Configure the Monte Carlo simulation to forecast 30 years cumulative returns\n",
    "# The weights should be split 40% to AGG and 60% to SPY.\n",
    "# Run 500 samples.\n",
    "\n",
    "MC_weight = MCSimulation(portfolio_data = prices_df,weights = [.60,.40],num_simulation = 500,num_trading_days = 252*30)\n",
    "\n",
    "# Review the simulation input data\n",
    "\n",
    "MC_weight.portfolio_data.head()"
   ]
  },
  {
   "cell_type": "code",
   "execution_count": 63,
   "metadata": {},
   "outputs": [
    {
     "name": "stdout",
     "output_type": "stream",
     "text": [
      "Running Monte Carlo simulation number 0.\n",
      "Running Monte Carlo simulation number 10.\n",
      "Running Monte Carlo simulation number 20.\n",
      "Running Monte Carlo simulation number 30.\n",
      "Running Monte Carlo simulation number 40.\n",
      "Running Monte Carlo simulation number 50.\n",
      "Running Monte Carlo simulation number 60.\n",
      "Running Monte Carlo simulation number 70.\n",
      "Running Monte Carlo simulation number 80.\n",
      "Running Monte Carlo simulation number 90.\n",
      "Running Monte Carlo simulation number 100.\n",
      "Running Monte Carlo simulation number 110.\n",
      "Running Monte Carlo simulation number 120.\n",
      "Running Monte Carlo simulation number 130.\n",
      "Running Monte Carlo simulation number 140.\n",
      "Running Monte Carlo simulation number 150.\n",
      "Running Monte Carlo simulation number 160.\n",
      "Running Monte Carlo simulation number 170.\n",
      "Running Monte Carlo simulation number 180.\n",
      "Running Monte Carlo simulation number 190.\n",
      "Running Monte Carlo simulation number 200.\n",
      "Running Monte Carlo simulation number 210.\n",
      "Running Monte Carlo simulation number 220.\n",
      "Running Monte Carlo simulation number 230.\n",
      "Running Monte Carlo simulation number 240.\n",
      "Running Monte Carlo simulation number 250.\n",
      "Running Monte Carlo simulation number 260.\n",
      "Running Monte Carlo simulation number 270.\n",
      "Running Monte Carlo simulation number 280.\n",
      "Running Monte Carlo simulation number 290.\n",
      "Running Monte Carlo simulation number 300.\n",
      "Running Monte Carlo simulation number 310.\n",
      "Running Monte Carlo simulation number 320.\n",
      "Running Monte Carlo simulation number 330.\n",
      "Running Monte Carlo simulation number 340.\n",
      "Running Monte Carlo simulation number 350.\n",
      "Running Monte Carlo simulation number 360.\n",
      "Running Monte Carlo simulation number 370.\n",
      "Running Monte Carlo simulation number 380.\n",
      "Running Monte Carlo simulation number 390.\n",
      "Running Monte Carlo simulation number 400.\n",
      "Running Monte Carlo simulation number 410.\n",
      "Running Monte Carlo simulation number 420.\n",
      "Running Monte Carlo simulation number 430.\n",
      "Running Monte Carlo simulation number 440.\n",
      "Running Monte Carlo simulation number 450.\n",
      "Running Monte Carlo simulation number 460.\n",
      "Running Monte Carlo simulation number 470.\n",
      "Running Monte Carlo simulation number 480.\n",
      "Running Monte Carlo simulation number 490.\n"
     ]
    },
    {
     "data": {
      "text/html": [
       "<div>\n",
       "<style scoped>\n",
       "    .dataframe tbody tr th:only-of-type {\n",
       "        vertical-align: middle;\n",
       "    }\n",
       "\n",
       "    .dataframe tbody tr th {\n",
       "        vertical-align: top;\n",
       "    }\n",
       "\n",
       "    .dataframe thead th {\n",
       "        text-align: right;\n",
       "    }\n",
       "</style>\n",
       "<table border=\"1\" class=\"dataframe\">\n",
       "  <thead>\n",
       "    <tr style=\"text-align: right;\">\n",
       "      <th></th>\n",
       "      <th>0</th>\n",
       "      <th>1</th>\n",
       "      <th>2</th>\n",
       "      <th>3</th>\n",
       "      <th>4</th>\n",
       "      <th>5</th>\n",
       "      <th>6</th>\n",
       "      <th>7</th>\n",
       "      <th>8</th>\n",
       "      <th>9</th>\n",
       "      <th>...</th>\n",
       "      <th>490</th>\n",
       "      <th>491</th>\n",
       "      <th>492</th>\n",
       "      <th>493</th>\n",
       "      <th>494</th>\n",
       "      <th>495</th>\n",
       "      <th>496</th>\n",
       "      <th>497</th>\n",
       "      <th>498</th>\n",
       "      <th>499</th>\n",
       "    </tr>\n",
       "  </thead>\n",
       "  <tbody>\n",
       "    <tr>\n",
       "      <th>0</th>\n",
       "      <td>1.000000</td>\n",
       "      <td>1.000000</td>\n",
       "      <td>1.000000</td>\n",
       "      <td>1.000000</td>\n",
       "      <td>1.000000</td>\n",
       "      <td>1.000000</td>\n",
       "      <td>1.000000</td>\n",
       "      <td>1.000000</td>\n",
       "      <td>1.000000</td>\n",
       "      <td>1.000000</td>\n",
       "      <td>...</td>\n",
       "      <td>1.000000</td>\n",
       "      <td>1.000000</td>\n",
       "      <td>1.000000</td>\n",
       "      <td>1.000000</td>\n",
       "      <td>1.000000</td>\n",
       "      <td>1.000000</td>\n",
       "      <td>1.000000</td>\n",
       "      <td>1.000000</td>\n",
       "      <td>1.000000</td>\n",
       "      <td>1.000000</td>\n",
       "    </tr>\n",
       "    <tr>\n",
       "      <th>1</th>\n",
       "      <td>0.996183</td>\n",
       "      <td>0.996760</td>\n",
       "      <td>0.994740</td>\n",
       "      <td>1.000071</td>\n",
       "      <td>0.999696</td>\n",
       "      <td>0.991952</td>\n",
       "      <td>1.000058</td>\n",
       "      <td>0.993684</td>\n",
       "      <td>0.993690</td>\n",
       "      <td>1.002714</td>\n",
       "      <td>...</td>\n",
       "      <td>0.995050</td>\n",
       "      <td>0.999240</td>\n",
       "      <td>1.001528</td>\n",
       "      <td>1.003109</td>\n",
       "      <td>1.000387</td>\n",
       "      <td>0.996517</td>\n",
       "      <td>1.002967</td>\n",
       "      <td>1.004930</td>\n",
       "      <td>1.005872</td>\n",
       "      <td>1.010636</td>\n",
       "    </tr>\n",
       "    <tr>\n",
       "      <th>2</th>\n",
       "      <td>0.990039</td>\n",
       "      <td>0.995381</td>\n",
       "      <td>0.999864</td>\n",
       "      <td>0.998033</td>\n",
       "      <td>1.004645</td>\n",
       "      <td>0.988727</td>\n",
       "      <td>0.999692</td>\n",
       "      <td>0.993159</td>\n",
       "      <td>0.989958</td>\n",
       "      <td>0.999360</td>\n",
       "      <td>...</td>\n",
       "      <td>0.991148</td>\n",
       "      <td>0.997529</td>\n",
       "      <td>0.998803</td>\n",
       "      <td>1.005680</td>\n",
       "      <td>1.003332</td>\n",
       "      <td>0.995258</td>\n",
       "      <td>1.009509</td>\n",
       "      <td>1.009496</td>\n",
       "      <td>1.003382</td>\n",
       "      <td>1.013959</td>\n",
       "    </tr>\n",
       "    <tr>\n",
       "      <th>3</th>\n",
       "      <td>0.991222</td>\n",
       "      <td>0.994039</td>\n",
       "      <td>0.995566</td>\n",
       "      <td>1.002348</td>\n",
       "      <td>1.001515</td>\n",
       "      <td>0.987295</td>\n",
       "      <td>0.998782</td>\n",
       "      <td>0.989458</td>\n",
       "      <td>0.991139</td>\n",
       "      <td>1.000935</td>\n",
       "      <td>...</td>\n",
       "      <td>0.988631</td>\n",
       "      <td>0.991219</td>\n",
       "      <td>1.005014</td>\n",
       "      <td>1.010109</td>\n",
       "      <td>0.999413</td>\n",
       "      <td>1.004080</td>\n",
       "      <td>1.004906</td>\n",
       "      <td>1.006581</td>\n",
       "      <td>1.007493</td>\n",
       "      <td>1.006170</td>\n",
       "    </tr>\n",
       "    <tr>\n",
       "      <th>4</th>\n",
       "      <td>0.995103</td>\n",
       "      <td>0.992899</td>\n",
       "      <td>0.994580</td>\n",
       "      <td>1.002746</td>\n",
       "      <td>0.997088</td>\n",
       "      <td>0.987571</td>\n",
       "      <td>0.995790</td>\n",
       "      <td>0.991526</td>\n",
       "      <td>1.000293</td>\n",
       "      <td>0.997111</td>\n",
       "      <td>...</td>\n",
       "      <td>0.987034</td>\n",
       "      <td>0.987369</td>\n",
       "      <td>1.008718</td>\n",
       "      <td>1.013975</td>\n",
       "      <td>1.001106</td>\n",
       "      <td>0.996211</td>\n",
       "      <td>1.007353</td>\n",
       "      <td>1.000942</td>\n",
       "      <td>1.004677</td>\n",
       "      <td>1.009686</td>\n",
       "    </tr>\n",
       "    <tr>\n",
       "      <th>...</th>\n",
       "      <td>...</td>\n",
       "      <td>...</td>\n",
       "      <td>...</td>\n",
       "      <td>...</td>\n",
       "      <td>...</td>\n",
       "      <td>...</td>\n",
       "      <td>...</td>\n",
       "      <td>...</td>\n",
       "      <td>...</td>\n",
       "      <td>...</td>\n",
       "      <td>...</td>\n",
       "      <td>...</td>\n",
       "      <td>...</td>\n",
       "      <td>...</td>\n",
       "      <td>...</td>\n",
       "      <td>...</td>\n",
       "      <td>...</td>\n",
       "      <td>...</td>\n",
       "      <td>...</td>\n",
       "      <td>...</td>\n",
       "      <td>...</td>\n",
       "    </tr>\n",
       "    <tr>\n",
       "      <th>7556</th>\n",
       "      <td>21.760139</td>\n",
       "      <td>49.562078</td>\n",
       "      <td>33.621212</td>\n",
       "      <td>30.701047</td>\n",
       "      <td>39.334564</td>\n",
       "      <td>26.514170</td>\n",
       "      <td>25.104256</td>\n",
       "      <td>18.476411</td>\n",
       "      <td>56.585554</td>\n",
       "      <td>28.961573</td>\n",
       "      <td>...</td>\n",
       "      <td>27.270390</td>\n",
       "      <td>48.674304</td>\n",
       "      <td>46.242033</td>\n",
       "      <td>34.197239</td>\n",
       "      <td>31.963030</td>\n",
       "      <td>29.657381</td>\n",
       "      <td>31.315123</td>\n",
       "      <td>25.372091</td>\n",
       "      <td>26.922278</td>\n",
       "      <td>23.930734</td>\n",
       "    </tr>\n",
       "    <tr>\n",
       "      <th>7557</th>\n",
       "      <td>21.825432</td>\n",
       "      <td>49.354355</td>\n",
       "      <td>33.692080</td>\n",
       "      <td>30.838424</td>\n",
       "      <td>39.342369</td>\n",
       "      <td>26.655839</td>\n",
       "      <td>24.895833</td>\n",
       "      <td>18.421216</td>\n",
       "      <td>56.288046</td>\n",
       "      <td>29.093384</td>\n",
       "      <td>...</td>\n",
       "      <td>27.221755</td>\n",
       "      <td>48.324206</td>\n",
       "      <td>46.005840</td>\n",
       "      <td>34.089568</td>\n",
       "      <td>32.119827</td>\n",
       "      <td>29.559867</td>\n",
       "      <td>31.355876</td>\n",
       "      <td>25.367885</td>\n",
       "      <td>26.972944</td>\n",
       "      <td>23.831890</td>\n",
       "    </tr>\n",
       "    <tr>\n",
       "      <th>7558</th>\n",
       "      <td>21.995830</td>\n",
       "      <td>49.480869</td>\n",
       "      <td>33.613946</td>\n",
       "      <td>30.797800</td>\n",
       "      <td>39.200297</td>\n",
       "      <td>26.710849</td>\n",
       "      <td>24.567278</td>\n",
       "      <td>18.583772</td>\n",
       "      <td>56.705569</td>\n",
       "      <td>29.204133</td>\n",
       "      <td>...</td>\n",
       "      <td>27.177379</td>\n",
       "      <td>47.883240</td>\n",
       "      <td>45.670217</td>\n",
       "      <td>34.144813</td>\n",
       "      <td>32.087538</td>\n",
       "      <td>29.523367</td>\n",
       "      <td>31.187659</td>\n",
       "      <td>25.427695</td>\n",
       "      <td>26.981177</td>\n",
       "      <td>23.798404</td>\n",
       "    </tr>\n",
       "    <tr>\n",
       "      <th>7559</th>\n",
       "      <td>22.039093</td>\n",
       "      <td>49.240504</td>\n",
       "      <td>33.607817</td>\n",
       "      <td>30.833893</td>\n",
       "      <td>39.499731</td>\n",
       "      <td>26.733386</td>\n",
       "      <td>24.577737</td>\n",
       "      <td>18.538270</td>\n",
       "      <td>57.002749</td>\n",
       "      <td>29.231912</td>\n",
       "      <td>...</td>\n",
       "      <td>27.258662</td>\n",
       "      <td>47.681319</td>\n",
       "      <td>45.843563</td>\n",
       "      <td>34.256514</td>\n",
       "      <td>32.112760</td>\n",
       "      <td>29.441515</td>\n",
       "      <td>31.427611</td>\n",
       "      <td>25.494995</td>\n",
       "      <td>26.859726</td>\n",
       "      <td>23.838379</td>\n",
       "    </tr>\n",
       "    <tr>\n",
       "      <th>7560</th>\n",
       "      <td>22.025742</td>\n",
       "      <td>49.373253</td>\n",
       "      <td>33.807931</td>\n",
       "      <td>30.930158</td>\n",
       "      <td>39.560788</td>\n",
       "      <td>26.937374</td>\n",
       "      <td>24.712215</td>\n",
       "      <td>18.595411</td>\n",
       "      <td>57.143000</td>\n",
       "      <td>29.428039</td>\n",
       "      <td>...</td>\n",
       "      <td>27.420490</td>\n",
       "      <td>47.907109</td>\n",
       "      <td>45.898540</td>\n",
       "      <td>34.219541</td>\n",
       "      <td>32.138765</td>\n",
       "      <td>29.475105</td>\n",
       "      <td>31.667990</td>\n",
       "      <td>25.514910</td>\n",
       "      <td>26.913779</td>\n",
       "      <td>23.640479</td>\n",
       "    </tr>\n",
       "  </tbody>\n",
       "</table>\n",
       "<p>7561 rows × 500 columns</p>\n",
       "</div>"
      ],
      "text/plain": [
       "            0          1          2          3          4          5    \\\n",
       "0      1.000000   1.000000   1.000000   1.000000   1.000000   1.000000   \n",
       "1      0.996183   0.996760   0.994740   1.000071   0.999696   0.991952   \n",
       "2      0.990039   0.995381   0.999864   0.998033   1.004645   0.988727   \n",
       "3      0.991222   0.994039   0.995566   1.002348   1.001515   0.987295   \n",
       "4      0.995103   0.992899   0.994580   1.002746   0.997088   0.987571   \n",
       "...         ...        ...        ...        ...        ...        ...   \n",
       "7556  21.760139  49.562078  33.621212  30.701047  39.334564  26.514170   \n",
       "7557  21.825432  49.354355  33.692080  30.838424  39.342369  26.655839   \n",
       "7558  21.995830  49.480869  33.613946  30.797800  39.200297  26.710849   \n",
       "7559  22.039093  49.240504  33.607817  30.833893  39.499731  26.733386   \n",
       "7560  22.025742  49.373253  33.807931  30.930158  39.560788  26.937374   \n",
       "\n",
       "            6          7          8          9    ...        490        491  \\\n",
       "0      1.000000   1.000000   1.000000   1.000000  ...   1.000000   1.000000   \n",
       "1      1.000058   0.993684   0.993690   1.002714  ...   0.995050   0.999240   \n",
       "2      0.999692   0.993159   0.989958   0.999360  ...   0.991148   0.997529   \n",
       "3      0.998782   0.989458   0.991139   1.000935  ...   0.988631   0.991219   \n",
       "4      0.995790   0.991526   1.000293   0.997111  ...   0.987034   0.987369   \n",
       "...         ...        ...        ...        ...  ...        ...        ...   \n",
       "7556  25.104256  18.476411  56.585554  28.961573  ...  27.270390  48.674304   \n",
       "7557  24.895833  18.421216  56.288046  29.093384  ...  27.221755  48.324206   \n",
       "7558  24.567278  18.583772  56.705569  29.204133  ...  27.177379  47.883240   \n",
       "7559  24.577737  18.538270  57.002749  29.231912  ...  27.258662  47.681319   \n",
       "7560  24.712215  18.595411  57.143000  29.428039  ...  27.420490  47.907109   \n",
       "\n",
       "            492        493        494        495        496        497  \\\n",
       "0      1.000000   1.000000   1.000000   1.000000   1.000000   1.000000   \n",
       "1      1.001528   1.003109   1.000387   0.996517   1.002967   1.004930   \n",
       "2      0.998803   1.005680   1.003332   0.995258   1.009509   1.009496   \n",
       "3      1.005014   1.010109   0.999413   1.004080   1.004906   1.006581   \n",
       "4      1.008718   1.013975   1.001106   0.996211   1.007353   1.000942   \n",
       "...         ...        ...        ...        ...        ...        ...   \n",
       "7556  46.242033  34.197239  31.963030  29.657381  31.315123  25.372091   \n",
       "7557  46.005840  34.089568  32.119827  29.559867  31.355876  25.367885   \n",
       "7558  45.670217  34.144813  32.087538  29.523367  31.187659  25.427695   \n",
       "7559  45.843563  34.256514  32.112760  29.441515  31.427611  25.494995   \n",
       "7560  45.898540  34.219541  32.138765  29.475105  31.667990  25.514910   \n",
       "\n",
       "            498        499  \n",
       "0      1.000000   1.000000  \n",
       "1      1.005872   1.010636  \n",
       "2      1.003382   1.013959  \n",
       "3      1.007493   1.006170  \n",
       "4      1.004677   1.009686  \n",
       "...         ...        ...  \n",
       "7556  26.922278  23.930734  \n",
       "7557  26.972944  23.831890  \n",
       "7558  26.981177  23.798404  \n",
       "7559  26.859726  23.838379  \n",
       "7560  26.913779  23.640479  \n",
       "\n",
       "[7561 rows x 500 columns]"
      ]
     },
     "execution_count": 63,
     "metadata": {},
     "output_type": "execute_result"
    }
   ],
   "source": [
    "# Run the Monte Carlo simulation to forecast 30 years cumulative returns\n",
    "# YOUR CODE HERE\n",
    "\n",
    "MC_weight.calc_cumulative_return()"
   ]
  },
  {
   "cell_type": "code",
   "execution_count": 64,
   "metadata": {},
   "outputs": [
    {
     "data": {
      "image/png": "[encoded data removed]",
      "text/plain": [
       "<Figure size 432x288 with 1 Axes>"
      ]
     },
     "metadata": {
      "needs_background": "light"
     },
     "output_type": "display_data"
    }
   ],
   "source": [
    "# Visualize the 30-year Monte Carlo simulation by creating an\n",
    "# overlay line plot\n",
    "# YOUR CODE HERE\n",
    "\n",
    "weight_line_plot = MC_weight.plot_simulation()"
   ]
  },
  {
   "cell_type": "markdown",
   "metadata": {},
   "source": [
    "#### Step 3: Plot the probability distribution of the Monte Carlo simulation."
   ]
  },
  {
   "cell_type": "code",
   "execution_count": 66,
   "metadata": {},
   "outputs": [
    {
     "data": {
      "image/png": "[encoded data removed]",
      "text/plain": [
       "<Figure size 432x288 with 1 Axes>"
      ]
     },
     "metadata": {
      "needs_background": "light"
     },
     "output_type": "display_data"
    }
   ],
   "source": [
    "# Visualize the probability distribution of the 30-year Monte Carlo simulation \n",
    "# by plotting a histogram\n",
    "\n",
    "weight_distribution_plot = MC_weight.plot_distribution()"
   ]
  },
  {
   "cell_type": "markdown",
   "metadata": {},
   "source": [
    "#### Step 4: Generate the summary statistics for the Monte Carlo simulation."
   ]
  },
  {
   "cell_type": "code",
   "execution_count": 68,
   "metadata": {},
   "outputs": [
    {
     "name": "stdout",
     "output_type": "stream",
     "text": [
      "count           500.000000\n",
      "mean             36.793442\n",
      "std              13.322439\n",
      "min              10.581679\n",
      "25%              26.714018\n",
      "50%              34.499437\n",
      "75%              44.057579\n",
      "max              90.797654\n",
      "95% CI Lower     17.212913\n",
      "95% CI Upper     66.777613\n",
      "Name: 7560, dtype: float64\n"
     ]
    }
   ],
   "source": [
    "# Generate summary statistics from the 30-year Monte Carlo simulation results\n",
    "# Save the results as a variable\n",
    "# YOUR CODE HERE\n",
    "\n",
    "weight_table = MC_weight.summarize_cumulative_return()\n",
    "\n",
    "# Review the 30-year Monte Carlo summary statistics\n",
    "# YOUR CODE HERE\n",
    "\n",
    "print(weight_table)"
   ]
  },
  {
   "cell_type": "markdown",
   "metadata": {},
   "source": [
    "### Analyze the Retirement Portfolio Forecasts\n",
    "\n",
    "Using the current value of only the stock and bond portion of the member's portfolio and the summary statistics that you generated from the Monte Carlo simulation, answer the following question in your Jupyter notebook:\n",
    "\n",
    "-  What are the lower and upper bounds for the expected value of the portfolio with a 95% confidence interval?\n"
   ]
  },
  {
   "cell_type": "code",
   "execution_count": 69,
   "metadata": {},
   "outputs": [
    {
     "name": "stdout",
     "output_type": "stream",
     "text": [
      "Total value of the stocks/bonds:            $65,850.70\n"
     ]
    }
   ],
   "source": [
    "# Print the current balance of the stock and bond portion of the members portfolio\n",
    "# YOUR CODE HERE\n",
    "\n",
    "print(f\"Total value of the stocks/bonds:            ${total_stocks_bonds:,.2f}\")"
   ]
  },
  {
   "cell_type": "code",
   "execution_count": 71,
   "metadata": {},
   "outputs": [
    {
     "name": "stdout",
     "output_type": "stream",
     "text": [
      "There is a 95% chance that investing the Stock/Bond portion of the portfolio (current value $65,850.70) in a traditional 60/40 weight distribution over the next 30 years will result in a value within the range of $1,133,482.40 and $4,397,352.57.\n"
     ]
    }
   ],
   "source": [
    "# Use the lower and upper `95%` confidence intervals to calculate the range of the possible outcomes for the current stock/bond portfolio\n",
    "\n",
    "ci_lower_thirty_cumulative_return = weight_table[8] * total_stocks_bonds\n",
    "ci_upper_thirty_cumulative_return = weight_table[9] * total_stocks_bonds\n",
    "\n",
    "# Print the result of your calculations\n",
    "\n",
    "print(f\"There is a 95% chance that investing the Stock/Bond portion of the portfolio (current value ${total_stocks_bonds:,.2f}) in\"\n",
    "      f\" a traditional 60/40 weight distribution over the next 30 years will result in a value within the range of\"\n",
    "      f\" ${ci_lower_thirty_cumulative_return:,.2f} and ${ci_upper_thirty_cumulative_return:,.2f}.\")"
   ]
  },
  {
   "cell_type": "markdown",
   "metadata": {},
   "source": [
    "### Forecast Cumulative Returns in 10 Years\n",
    "\n",
    "The CTO of the credit union is impressed with your work on these planning tools but wonders if 30 years is a long time to wait until retirement. So, your next task is to adjust the retirement portfolio and run a new Monte Carlo simulation to find out if the changes will allow members to retire earlier.\n",
    "\n",
    "For this new Monte Carlo simulation, do the following: \n",
    "\n",
    "- Forecast the cumulative returns for 10 years from now. Because of the shortened investment horizon (30 years to 10 years), the portfolio needs to invest more heavily in the riskier asset&mdash;that is, stock&mdash;to help accumulate wealth for retirement. \n",
    "\n",
    "- Adjust the weights of the retirement portfolio so that the composition for the Monte Carlo simulation consists of 20% bonds and 80% stocks. \n",
    "\n",
    "- Run the simulation over 500 samples, and use the same data that the API call to Alpaca generated.\n",
    "\n",
    "- Based on the new Monte Carlo simulation, answer the following questions in your Jupyter notebook:\n",
    "\n",
    "    - Using the current value of only the stock and bond portion of the member's portfolio and the summary statistics that you generated from the new Monte Carlo simulation, what are the lower and upper bounds for the expected value of the portfolio (with the new weights) with a 95% confidence interval?\n",
    "\n",
    "    - Will weighting the portfolio more heavily toward stocks allow the credit union members to retire after only 10 years?\n"
   ]
  },
  {
   "cell_type": "code",
   "execution_count": 72,
   "metadata": {},
   "outputs": [
    {
     "data": {
      "text/html": [
       "<div>\n",
       "<style scoped>\n",
       "    .dataframe tbody tr th:only-of-type {\n",
       "        vertical-align: middle;\n",
       "    }\n",
       "\n",
       "    .dataframe tbody tr th {\n",
       "        vertical-align: top;\n",
       "    }\n",
       "\n",
       "    .dataframe thead tr th {\n",
       "        text-align: left;\n",
       "    }\n",
       "\n",
       "    .dataframe thead tr:last-of-type th {\n",
       "        text-align: right;\n",
       "    }\n",
       "</style>\n",
       "<table border=\"1\" class=\"dataframe\">\n",
       "  <thead>\n",
       "    <tr>\n",
       "      <th></th>\n",
       "      <th colspan=\"6\" halign=\"left\">AGG</th>\n",
       "      <th colspan=\"6\" halign=\"left\">SPY</th>\n",
       "    </tr>\n",
       "    <tr>\n",
       "      <th></th>\n",
       "      <th>open</th>\n",
       "      <th>high</th>\n",
       "      <th>low</th>\n",
       "      <th>close</th>\n",
       "      <th>volume</th>\n",
       "      <th>daily_return</th>\n",
       "      <th>open</th>\n",
       "      <th>high</th>\n",
       "      <th>low</th>\n",
       "      <th>close</th>\n",
       "      <th>volume</th>\n",
       "      <th>daily_return</th>\n",
       "    </tr>\n",
       "    <tr>\n",
       "      <th>time</th>\n",
       "      <th></th>\n",
       "      <th></th>\n",
       "      <th></th>\n",
       "      <th></th>\n",
       "      <th></th>\n",
       "      <th></th>\n",
       "      <th></th>\n",
       "      <th></th>\n",
       "      <th></th>\n",
       "      <th></th>\n",
       "      <th></th>\n",
       "      <th></th>\n",
       "    </tr>\n",
       "  </thead>\n",
       "  <tbody>\n",
       "    <tr>\n",
       "      <th>2020-09-14 00:00:00-04:00</th>\n",
       "      <td>118.4700</td>\n",
       "      <td>118.490</td>\n",
       "      <td>118.31</td>\n",
       "      <td>118.37</td>\n",
       "      <td>11279340</td>\n",
       "      <td>NaN</td>\n",
       "      <td>337.49</td>\n",
       "      <td>340.3800</td>\n",
       "      <td>334.2208</td>\n",
       "      <td>338.42</td>\n",
       "      <td>110083883</td>\n",
       "      <td>NaN</td>\n",
       "    </tr>\n",
       "    <tr>\n",
       "      <th>2020-09-15 00:00:00-04:00</th>\n",
       "      <td>118.2900</td>\n",
       "      <td>118.425</td>\n",
       "      <td>118.29</td>\n",
       "      <td>118.38</td>\n",
       "      <td>3634512</td>\n",
       "      <td>0.000084</td>\n",
       "      <td>341.12</td>\n",
       "      <td>342.0200</td>\n",
       "      <td>338.4683</td>\n",
       "      <td>340.15</td>\n",
       "      <td>43908367</td>\n",
       "      <td>0.005112</td>\n",
       "    </tr>\n",
       "    <tr>\n",
       "      <th>2020-09-16 00:00:00-04:00</th>\n",
       "      <td>118.5300</td>\n",
       "      <td>118.530</td>\n",
       "      <td>118.20</td>\n",
       "      <td>118.32</td>\n",
       "      <td>5190572</td>\n",
       "      <td>-0.000507</td>\n",
       "      <td>341.51</td>\n",
       "      <td>343.0600</td>\n",
       "      <td>338.5200</td>\n",
       "      <td>338.81</td>\n",
       "      <td>70521698</td>\n",
       "      <td>-0.003939</td>\n",
       "    </tr>\n",
       "    <tr>\n",
       "      <th>2020-09-17 00:00:00-04:00</th>\n",
       "      <td>118.4201</td>\n",
       "      <td>118.520</td>\n",
       "      <td>118.33</td>\n",
       "      <td>118.36</td>\n",
       "      <td>4263541</td>\n",
       "      <td>0.000338</td>\n",
       "      <td>333.56</td>\n",
       "      <td>337.6996</td>\n",
       "      <td>332.9910</td>\n",
       "      <td>335.86</td>\n",
       "      <td>80778657</td>\n",
       "      <td>-0.008707</td>\n",
       "    </tr>\n",
       "    <tr>\n",
       "      <th>2020-09-18 00:00:00-04:00</th>\n",
       "      <td>118.3900</td>\n",
       "      <td>118.440</td>\n",
       "      <td>118.18</td>\n",
       "      <td>118.24</td>\n",
       "      <td>4548578</td>\n",
       "      <td>-0.001014</td>\n",
       "      <td>335.37</td>\n",
       "      <td>335.4900</td>\n",
       "      <td>327.9700</td>\n",
       "      <td>330.69</td>\n",
       "      <td>88780313</td>\n",
       "      <td>-0.015393</td>\n",
       "    </tr>\n",
       "  </tbody>\n",
       "</table>\n",
       "</div>"
      ],
      "text/plain": [
       "                                AGG                                     \\\n",
       "                               open     high     low   close    volume   \n",
       "time                                                                     \n",
       "2020-09-14 00:00:00-04:00  118.4700  118.490  118.31  118.37  11279340   \n",
       "2020-09-15 00:00:00-04:00  118.2900  118.425  118.29  118.38   3634512   \n",
       "2020-09-16 00:00:00-04:00  118.5300  118.530  118.20  118.32   5190572   \n",
       "2020-09-17 00:00:00-04:00  118.4201  118.520  118.33  118.36   4263541   \n",
       "2020-09-18 00:00:00-04:00  118.3900  118.440  118.18  118.24   4548578   \n",
       "\n",
       "                                           SPY                              \\\n",
       "                          daily_return    open      high       low   close   \n",
       "time                                                                         \n",
       "2020-09-14 00:00:00-04:00          NaN  337.49  340.3800  334.2208  338.42   \n",
       "2020-09-15 00:00:00-04:00     0.000084  341.12  342.0200  338.4683  340.15   \n",
       "2020-09-16 00:00:00-04:00    -0.000507  341.51  343.0600  338.5200  338.81   \n",
       "2020-09-17 00:00:00-04:00     0.000338  333.56  337.6996  332.9910  335.86   \n",
       "2020-09-18 00:00:00-04:00    -0.001014  335.37  335.4900  327.9700  330.69   \n",
       "\n",
       "                                                   \n",
       "                              volume daily_return  \n",
       "time                                               \n",
       "2020-09-14 00:00:00-04:00  110083883          NaN  \n",
       "2020-09-15 00:00:00-04:00   43908367     0.005112  \n",
       "2020-09-16 00:00:00-04:00   70521698    -0.003939  \n",
       "2020-09-17 00:00:00-04:00   80778657    -0.008707  \n",
       "2020-09-18 00:00:00-04:00   88780313    -0.015393  "
      ]
     },
     "execution_count": 72,
     "metadata": {},
     "output_type": "execute_result"
    }
   ],
   "source": [
    "# Configure a Monte Carlo simulation to forecast 10 years cumulative returns\n",
    "# The weights should be split 20% to AGG and 80% to SPY.\n",
    "# Run 500 samples.\n",
    "\n",
    "MC_spy80_weight = MCSimulation(portfolio_data = prices_df,weights = [.80,.20],num_simulation = 500,num_trading_days = 252*10)\n",
    "\n",
    "# Review the simulation input data\n",
    "\n",
    "MC_spy80_weight.portfolio_data.head()"
   ]
  },
  {
   "cell_type": "code",
   "execution_count": 73,
   "metadata": {},
   "outputs": [
    {
     "name": "stdout",
     "output_type": "stream",
     "text": [
      "Running Monte Carlo simulation number 0.\n",
      "Running Monte Carlo simulation number 10.\n",
      "Running Monte Carlo simulation number 20.\n",
      "Running Monte Carlo simulation number 30.\n",
      "Running Monte Carlo simulation number 40.\n",
      "Running Monte Carlo simulation number 50.\n",
      "Running Monte Carlo simulation number 60.\n",
      "Running Monte Carlo simulation number 70.\n",
      "Running Monte Carlo simulation number 80.\n",
      "Running Monte Carlo simulation number 90.\n",
      "Running Monte Carlo simulation number 100.\n",
      "Running Monte Carlo simulation number 110.\n",
      "Running Monte Carlo simulation number 120.\n",
      "Running Monte Carlo simulation number 130.\n",
      "Running Monte Carlo simulation number 140.\n",
      "Running Monte Carlo simulation number 150.\n",
      "Running Monte Carlo simulation number 160.\n",
      "Running Monte Carlo simulation number 170.\n",
      "Running Monte Carlo simulation number 180.\n",
      "Running Monte Carlo simulation number 190.\n",
      "Running Monte Carlo simulation number 200.\n",
      "Running Monte Carlo simulation number 210.\n",
      "Running Monte Carlo simulation number 220.\n",
      "Running Monte Carlo simulation number 230.\n",
      "Running Monte Carlo simulation number 240.\n",
      "Running Monte Carlo simulation number 250.\n",
      "Running Monte Carlo simulation number 260.\n",
      "Running Monte Carlo simulation number 270.\n",
      "Running Monte Carlo simulation number 280.\n",
      "Running Monte Carlo simulation number 290.\n",
      "Running Monte Carlo simulation number 300.\n",
      "Running Monte Carlo simulation number 310.\n",
      "Running Monte Carlo simulation number 320.\n",
      "Running Monte Carlo simulation number 330.\n",
      "Running Monte Carlo simulation number 340.\n",
      "Running Monte Carlo simulation number 350.\n",
      "Running Monte Carlo simulation number 360.\n",
      "Running Monte Carlo simulation number 370.\n",
      "Running Monte Carlo simulation number 380.\n",
      "Running Monte Carlo simulation number 390.\n",
      "Running Monte Carlo simulation number 400.\n",
      "Running Monte Carlo simulation number 410.\n",
      "Running Monte Carlo simulation number 420.\n",
      "Running Monte Carlo simulation number 430.\n",
      "Running Monte Carlo simulation number 440.\n",
      "Running Monte Carlo simulation number 450.\n",
      "Running Monte Carlo simulation number 460.\n",
      "Running Monte Carlo simulation number 470.\n",
      "Running Monte Carlo simulation number 480.\n",
      "Running Monte Carlo simulation number 490.\n"
     ]
    },
    {
     "data": {
      "text/html": [
       "<div>\n",
       "<style scoped>\n",
       "    .dataframe tbody tr th:only-of-type {\n",
       "        vertical-align: middle;\n",
       "    }\n",
       "\n",
       "    .dataframe tbody tr th {\n",
       "        vertical-align: top;\n",
       "    }\n",
       "\n",
       "    .dataframe thead th {\n",
       "        text-align: right;\n",
       "    }\n",
       "</style>\n",
       "<table border=\"1\" class=\"dataframe\">\n",
       "  <thead>\n",
       "    <tr style=\"text-align: right;\">\n",
       "      <th></th>\n",
       "      <th>0</th>\n",
       "      <th>1</th>\n",
       "      <th>2</th>\n",
       "      <th>3</th>\n",
       "      <th>4</th>\n",
       "      <th>5</th>\n",
       "      <th>6</th>\n",
       "      <th>7</th>\n",
       "      <th>8</th>\n",
       "      <th>9</th>\n",
       "      <th>...</th>\n",
       "      <th>490</th>\n",
       "      <th>491</th>\n",
       "      <th>492</th>\n",
       "      <th>493</th>\n",
       "      <th>494</th>\n",
       "      <th>495</th>\n",
       "      <th>496</th>\n",
       "      <th>497</th>\n",
       "      <th>498</th>\n",
       "      <th>499</th>\n",
       "    </tr>\n",
       "  </thead>\n",
       "  <tbody>\n",
       "    <tr>\n",
       "      <th>0</th>\n",
       "      <td>1.000000</td>\n",
       "      <td>1.000000</td>\n",
       "      <td>1.000000</td>\n",
       "      <td>1.000000</td>\n",
       "      <td>1.000000</td>\n",
       "      <td>1.000000</td>\n",
       "      <td>1.000000</td>\n",
       "      <td>1.000000</td>\n",
       "      <td>1.000000</td>\n",
       "      <td>1.000000</td>\n",
       "      <td>...</td>\n",
       "      <td>1.000000</td>\n",
       "      <td>1.000000</td>\n",
       "      <td>1.000000</td>\n",
       "      <td>1.000000</td>\n",
       "      <td>1.000000</td>\n",
       "      <td>1.000000</td>\n",
       "      <td>1.000000</td>\n",
       "      <td>1.000000</td>\n",
       "      <td>1.000000</td>\n",
       "      <td>1.000000</td>\n",
       "    </tr>\n",
       "    <tr>\n",
       "      <th>1</th>\n",
       "      <td>1.000878</td>\n",
       "      <td>0.999692</td>\n",
       "      <td>0.998595</td>\n",
       "      <td>1.001757</td>\n",
       "      <td>0.996962</td>\n",
       "      <td>1.001510</td>\n",
       "      <td>1.000206</td>\n",
       "      <td>0.998311</td>\n",
       "      <td>1.003211</td>\n",
       "      <td>0.996366</td>\n",
       "      <td>...</td>\n",
       "      <td>0.998975</td>\n",
       "      <td>0.996105</td>\n",
       "      <td>0.998132</td>\n",
       "      <td>1.000061</td>\n",
       "      <td>0.997033</td>\n",
       "      <td>0.999194</td>\n",
       "      <td>1.000185</td>\n",
       "      <td>0.999535</td>\n",
       "      <td>0.999992</td>\n",
       "      <td>0.997893</td>\n",
       "    </tr>\n",
       "    <tr>\n",
       "      <th>2</th>\n",
       "      <td>1.002922</td>\n",
       "      <td>1.001341</td>\n",
       "      <td>0.997353</td>\n",
       "      <td>0.999728</td>\n",
       "      <td>0.999717</td>\n",
       "      <td>1.004775</td>\n",
       "      <td>1.001723</td>\n",
       "      <td>0.992298</td>\n",
       "      <td>1.001698</td>\n",
       "      <td>0.998488</td>\n",
       "      <td>...</td>\n",
       "      <td>0.997809</td>\n",
       "      <td>0.995499</td>\n",
       "      <td>0.997480</td>\n",
       "      <td>1.004626</td>\n",
       "      <td>0.997439</td>\n",
       "      <td>0.996698</td>\n",
       "      <td>0.999139</td>\n",
       "      <td>0.997729</td>\n",
       "      <td>0.997926</td>\n",
       "      <td>0.994824</td>\n",
       "    </tr>\n",
       "    <tr>\n",
       "      <th>3</th>\n",
       "      <td>1.005660</td>\n",
       "      <td>1.001120</td>\n",
       "      <td>0.993816</td>\n",
       "      <td>0.999520</td>\n",
       "      <td>1.006496</td>\n",
       "      <td>1.002195</td>\n",
       "      <td>1.006078</td>\n",
       "      <td>0.991072</td>\n",
       "      <td>0.998201</td>\n",
       "      <td>0.996979</td>\n",
       "      <td>...</td>\n",
       "      <td>0.999034</td>\n",
       "      <td>0.996509</td>\n",
       "      <td>1.000424</td>\n",
       "      <td>1.007047</td>\n",
       "      <td>0.998062</td>\n",
       "      <td>0.996441</td>\n",
       "      <td>0.997029</td>\n",
       "      <td>0.998288</td>\n",
       "      <td>0.999211</td>\n",
       "      <td>0.995105</td>\n",
       "    </tr>\n",
       "    <tr>\n",
       "      <th>4</th>\n",
       "      <td>1.007216</td>\n",
       "      <td>1.002196</td>\n",
       "      <td>0.991836</td>\n",
       "      <td>1.002324</td>\n",
       "      <td>1.004477</td>\n",
       "      <td>1.003982</td>\n",
       "      <td>1.007828</td>\n",
       "      <td>0.991754</td>\n",
       "      <td>0.995305</td>\n",
       "      <td>0.996354</td>\n",
       "      <td>...</td>\n",
       "      <td>1.005159</td>\n",
       "      <td>0.994979</td>\n",
       "      <td>1.000061</td>\n",
       "      <td>1.003185</td>\n",
       "      <td>1.000424</td>\n",
       "      <td>0.998051</td>\n",
       "      <td>0.997501</td>\n",
       "      <td>0.996892</td>\n",
       "      <td>1.002189</td>\n",
       "      <td>0.994070</td>\n",
       "    </tr>\n",
       "    <tr>\n",
       "      <th>...</th>\n",
       "      <td>...</td>\n",
       "      <td>...</td>\n",
       "      <td>...</td>\n",
       "      <td>...</td>\n",
       "      <td>...</td>\n",
       "      <td>...</td>\n",
       "      <td>...</td>\n",
       "      <td>...</td>\n",
       "      <td>...</td>\n",
       "      <td>...</td>\n",
       "      <td>...</td>\n",
       "      <td>...</td>\n",
       "      <td>...</td>\n",
       "      <td>...</td>\n",
       "      <td>...</td>\n",
       "      <td>...</td>\n",
       "      <td>...</td>\n",
       "      <td>...</td>\n",
       "      <td>...</td>\n",
       "      <td>...</td>\n",
       "      <td>...</td>\n",
       "    </tr>\n",
       "    <tr>\n",
       "      <th>2516</th>\n",
       "      <td>1.360486</td>\n",
       "      <td>1.673476</td>\n",
       "      <td>1.544375</td>\n",
       "      <td>1.844413</td>\n",
       "      <td>1.368077</td>\n",
       "      <td>1.700506</td>\n",
       "      <td>1.580164</td>\n",
       "      <td>1.636776</td>\n",
       "      <td>1.671492</td>\n",
       "      <td>1.390817</td>\n",
       "      <td>...</td>\n",
       "      <td>1.653756</td>\n",
       "      <td>1.403603</td>\n",
       "      <td>1.583661</td>\n",
       "      <td>1.317109</td>\n",
       "      <td>1.827009</td>\n",
       "      <td>1.601789</td>\n",
       "      <td>1.495369</td>\n",
       "      <td>1.608735</td>\n",
       "      <td>1.650043</td>\n",
       "      <td>1.204031</td>\n",
       "    </tr>\n",
       "    <tr>\n",
       "      <th>2517</th>\n",
       "      <td>1.359384</td>\n",
       "      <td>1.675915</td>\n",
       "      <td>1.546583</td>\n",
       "      <td>1.843642</td>\n",
       "      <td>1.367919</td>\n",
       "      <td>1.701545</td>\n",
       "      <td>1.582632</td>\n",
       "      <td>1.641262</td>\n",
       "      <td>1.671349</td>\n",
       "      <td>1.387265</td>\n",
       "      <td>...</td>\n",
       "      <td>1.655243</td>\n",
       "      <td>1.402243</td>\n",
       "      <td>1.587611</td>\n",
       "      <td>1.312770</td>\n",
       "      <td>1.827738</td>\n",
       "      <td>1.599872</td>\n",
       "      <td>1.495215</td>\n",
       "      <td>1.613118</td>\n",
       "      <td>1.644944</td>\n",
       "      <td>1.204542</td>\n",
       "    </tr>\n",
       "    <tr>\n",
       "      <th>2518</th>\n",
       "      <td>1.359286</td>\n",
       "      <td>1.684374</td>\n",
       "      <td>1.542408</td>\n",
       "      <td>1.846987</td>\n",
       "      <td>1.367782</td>\n",
       "      <td>1.693220</td>\n",
       "      <td>1.584534</td>\n",
       "      <td>1.635303</td>\n",
       "      <td>1.672181</td>\n",
       "      <td>1.383781</td>\n",
       "      <td>...</td>\n",
       "      <td>1.656419</td>\n",
       "      <td>1.399174</td>\n",
       "      <td>1.586167</td>\n",
       "      <td>1.315166</td>\n",
       "      <td>1.831753</td>\n",
       "      <td>1.600275</td>\n",
       "      <td>1.495136</td>\n",
       "      <td>1.612862</td>\n",
       "      <td>1.643132</td>\n",
       "      <td>1.202732</td>\n",
       "    </tr>\n",
       "    <tr>\n",
       "      <th>2519</th>\n",
       "      <td>1.354852</td>\n",
       "      <td>1.681681</td>\n",
       "      <td>1.539372</td>\n",
       "      <td>1.851156</td>\n",
       "      <td>1.372227</td>\n",
       "      <td>1.686352</td>\n",
       "      <td>1.588649</td>\n",
       "      <td>1.631201</td>\n",
       "      <td>1.673805</td>\n",
       "      <td>1.386743</td>\n",
       "      <td>...</td>\n",
       "      <td>1.657120</td>\n",
       "      <td>1.396961</td>\n",
       "      <td>1.594334</td>\n",
       "      <td>1.310638</td>\n",
       "      <td>1.828809</td>\n",
       "      <td>1.599464</td>\n",
       "      <td>1.499453</td>\n",
       "      <td>1.615850</td>\n",
       "      <td>1.641826</td>\n",
       "      <td>1.205292</td>\n",
       "    </tr>\n",
       "    <tr>\n",
       "      <th>2520</th>\n",
       "      <td>1.355348</td>\n",
       "      <td>1.683831</td>\n",
       "      <td>1.537626</td>\n",
       "      <td>1.856743</td>\n",
       "      <td>1.367970</td>\n",
       "      <td>1.693487</td>\n",
       "      <td>1.591174</td>\n",
       "      <td>1.635992</td>\n",
       "      <td>1.677713</td>\n",
       "      <td>1.383684</td>\n",
       "      <td>...</td>\n",
       "      <td>1.659284</td>\n",
       "      <td>1.401948</td>\n",
       "      <td>1.594214</td>\n",
       "      <td>1.305438</td>\n",
       "      <td>1.825456</td>\n",
       "      <td>1.597771</td>\n",
       "      <td>1.495649</td>\n",
       "      <td>1.616550</td>\n",
       "      <td>1.646203</td>\n",
       "      <td>1.209366</td>\n",
       "    </tr>\n",
       "  </tbody>\n",
       "</table>\n",
       "<p>2521 rows × 500 columns</p>\n",
       "</div>"
      ],
      "text/plain": [
       "           0         1         2         3         4         5         6    \\\n",
       "0     1.000000  1.000000  1.000000  1.000000  1.000000  1.000000  1.000000   \n",
       "1     1.000878  0.999692  0.998595  1.001757  0.996962  1.001510  1.000206   \n",
       "2     1.002922  1.001341  0.997353  0.999728  0.999717  1.004775  1.001723   \n",
       "3     1.005660  1.001120  0.993816  0.999520  1.006496  1.002195  1.006078   \n",
       "4     1.007216  1.002196  0.991836  1.002324  1.004477  1.003982  1.007828   \n",
       "...        ...       ...       ...       ...       ...       ...       ...   \n",
       "2516  1.360486  1.673476  1.544375  1.844413  1.368077  1.700506  1.580164   \n",
       "2517  1.359384  1.675915  1.546583  1.843642  1.367919  1.701545  1.582632   \n",
       "2518  1.359286  1.684374  1.542408  1.846987  1.367782  1.693220  1.584534   \n",
       "2519  1.354852  1.681681  1.539372  1.851156  1.372227  1.686352  1.588649   \n",
       "2520  1.355348  1.683831  1.537626  1.856743  1.367970  1.693487  1.591174   \n",
       "\n",
       "           7         8         9    ...       490       491       492  \\\n",
       "0     1.000000  1.000000  1.000000  ...  1.000000  1.000000  1.000000   \n",
       "1     0.998311  1.003211  0.996366  ...  0.998975  0.996105  0.998132   \n",
       "2     0.992298  1.001698  0.998488  ...  0.997809  0.995499  0.997480   \n",
       "3     0.991072  0.998201  0.996979  ...  0.999034  0.996509  1.000424   \n",
       "4     0.991754  0.995305  0.996354  ...  1.005159  0.994979  1.000061   \n",
       "...        ...       ...       ...  ...       ...       ...       ...   \n",
       "2516  1.636776  1.671492  1.390817  ...  1.653756  1.403603  1.583661   \n",
       "2517  1.641262  1.671349  1.387265  ...  1.655243  1.402243  1.587611   \n",
       "2518  1.635303  1.672181  1.383781  ...  1.656419  1.399174  1.586167   \n",
       "2519  1.631201  1.673805  1.386743  ...  1.657120  1.396961  1.594334   \n",
       "2520  1.635992  1.677713  1.383684  ...  1.659284  1.401948  1.594214   \n",
       "\n",
       "           493       494       495       496       497       498       499  \n",
       "0     1.000000  1.000000  1.000000  1.000000  1.000000  1.000000  1.000000  \n",
       "1     1.000061  0.997033  0.999194  1.000185  0.999535  0.999992  0.997893  \n",
       "2     1.004626  0.997439  0.996698  0.999139  0.997729  0.997926  0.994824  \n",
       "3     1.007047  0.998062  0.996441  0.997029  0.998288  0.999211  0.995105  \n",
       "4     1.003185  1.000424  0.998051  0.997501  0.996892  1.002189  0.994070  \n",
       "...        ...       ...       ...       ...       ...       ...       ...  \n",
       "2516  1.317109  1.827009  1.601789  1.495369  1.608735  1.650043  1.204031  \n",
       "2517  1.312770  1.827738  1.599872  1.495215  1.613118  1.644944  1.204542  \n",
       "2518  1.315166  1.831753  1.600275  1.495136  1.612862  1.643132  1.202732  \n",
       "2519  1.310638  1.828809  1.599464  1.499453  1.615850  1.641826  1.205292  \n",
       "2520  1.305438  1.825456  1.597771  1.495649  1.616550  1.646203  1.209366  \n",
       "\n",
       "[2521 rows x 500 columns]"
      ]
     },
     "execution_count": 73,
     "metadata": {},
     "output_type": "execute_result"
    }
   ],
   "source": [
    "# Run the Monte Carlo simulation to forecast 10 years cumulative returns\n",
    "# YOUR CODE HERE\n",
    "\n",
    "MC_spy80_weight.calc_cumulative_return()"
   ]
  },
  {
   "cell_type": "code",
   "execution_count": 74,
   "metadata": {},
   "outputs": [
    {
     "data": {
      "image/png": "[encoded data removed]",
      "text/plain": [
       "<Figure size 432x288 with 1 Axes>"
      ]
     },
     "metadata": {
      "needs_background": "light"
     },
     "output_type": "display_data"
    }
   ],
   "source": [
    "# Visualize the 10-year Monte Carlo simulation by creating an\n",
    "# overlay line plot\n",
    "\n",
    "spy80_weight_line_plot = MC_spy80_weight.plot_simulation()"
   ]
  },
  {
   "cell_type": "code",
   "execution_count": 75,
   "metadata": {},
   "outputs": [
    {
     "data": {
      "image/png": "[encoded data removed]",
      "text/plain": [
       "<Figure size 432x288 with 1 Axes>"
      ]
     },
     "metadata": {
      "needs_background": "light"
     },
     "output_type": "display_data"
    }
   ],
   "source": [
    "# Visualize the probability distribution of the 10-year Monte Carlo simulation \n",
    "# by plotting a histogram\n",
    "\n",
    "spy80_weight_distribution_plot = MC_spy80_weight.plot_distribution()"
   ]
  },
  {
   "cell_type": "code",
   "execution_count": 76,
   "metadata": {},
   "outputs": [
    {
     "name": "stdout",
     "output_type": "stream",
     "text": [
      "count           500.000000\n",
      "mean              1.557401\n",
      "std               0.186366\n",
      "min               1.104364\n",
      "25%               1.423373\n",
      "50%               1.537608\n",
      "75%               1.683993\n",
      "max               2.391263\n",
      "95% CI Lower      1.243695\n",
      "95% CI Upper      1.952236\n",
      "Name: 2520, dtype: float64\n"
     ]
    }
   ],
   "source": [
    "# Generate summary statistics from the 10-year Monte Carlo simulation results\n",
    "# Save the results as a variable\n",
    "\n",
    "spy80_weight_table = MC_spy80_weight.summarize_cumulative_return()\n",
    "\n",
    "# Review the 10-year Monte Carlo summary statistics\n",
    "\n",
    "print(spy80_weight_table)"
   ]
  },
  {
   "cell_type": "markdown",
   "metadata": {},
   "source": [
    "### Answer the following questions:"
   ]
  },
  {
   "cell_type": "markdown",
   "metadata": {},
   "source": [
    "#### Question: Using the current value of only the stock and bond portion of the member's portfolio and the summary statistics that you generated from the new Monte Carlo simulation, what are the lower and upper bounds for the expected value of the portfolio (with the new weights) with a 95% confidence interval?"
   ]
  },
  {
   "cell_type": "code",
   "execution_count": 77,
   "metadata": {},
   "outputs": [
    {
     "name": "stdout",
     "output_type": "stream",
     "text": [
      "Total Current Value of the Stock/Bond portion of the Portfolio:            $65,850.70\n"
     ]
    }
   ],
   "source": [
    "# Print the current balance of the stock and bond portion of the members portfolio\n",
    "# YOUR CODE HERE\n",
    "\n",
    "print(f\"Total value of the stock/bond portion of portfolio:            ${total_stocks_bonds:,.2f}\")"
   ]
  },
  {
   "cell_type": "code",
   "execution_count": 84,
   "metadata": {},
   "outputs": [
    {
     "name": "stdout",
     "output_type": "stream",
     "text": [
      "We can say with 95% confidence that portfolio will grow in value, after 10 years,between $81,898.18 and $128,556.11 in value.\n"
     ]
    }
   ],
   "source": [
    "# Use the lower and upper `95%` confidence intervals to calculate the range of the possible outcomes for the current stock/bond portfolio\n",
    "\n",
    "ci_lower_ten_cumulative_return = spy80_weight_table[8] * total_stocks_bonds\n",
    "ci_upper_ten_cumulative_return = spy80_weight_table[9] * total_stocks_bonds\n",
    "\n",
    "# Print the result of your calculations\n",
    "# YOUR CODE HERE\n",
    "\n",
    "print(f\"We can say with 95% confidence that portfolio will grow in value, after 10 years,between\"\n",
    "      f\" ${ci_lower_ten_cumulative_return:,.2f} and ${ci_upper_ten_cumulative_return:,.2f} in value.\")\n"
   ]
  },
  {
   "cell_type": "markdown",
   "metadata": {},
   "source": [
    "#### Question: Will weighting the portfolio more heavily to stocks allow the credit union members to retire after only 10 years?"
   ]
  },
  {
   "cell_type": "raw",
   "metadata": {},
   "source": []
  },
  {
   "cell_type": "code",
   "execution_count": 85,
   "metadata": {},
   "outputs": [
    {
     "name": "stdout",
     "output_type": "stream",
     "text": [
      "Given the members' expenses of 12,000 per month, and the weight distribution of the stocks/bonds it is unlikely that the members could retire in only 10 years\n"
     ]
    }
   ],
   "source": [
    "print(\"\"\"Given the members' expenses of 12,000 per month, and the weight distribution of the stocks/bonds it is unlikely that the members could retire in only 10 years\"\"\")"
   ]
  },
  {
   "cell_type": "code",
   "execution_count": null,
   "metadata": {},
   "outputs": [],
   "source": []
  }
 ],
 "metadata": {
  "kernelspec": {
   "display_name": "Python 3",
   "language": "python",
   "name": "python3"
  },
  "language_info": {
   "codemirror_mode": {
    "name": "ipython",
    "version": 3
   },
   "file_extension": ".py",
   "mimetype": "text/x-python",
   "name": "python",
   "nbconvert_exporter": "python",
   "pygments_lexer": "ipython3",
   "version": "3.8.5"
  }
 },
 "nbformat": 4,
 "nbformat_minor": 4
}
